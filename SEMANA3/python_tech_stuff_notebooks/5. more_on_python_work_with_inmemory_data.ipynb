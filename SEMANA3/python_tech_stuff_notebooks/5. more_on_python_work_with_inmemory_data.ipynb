{
 "cells": [
  {
   "cell_type": "markdown",
   "metadata": {},
   "source": [
    "**Problem**\n",
    "\n",
    "Read data stored in files under **/path to/teams_attendance_app/data**\n",
    "\n",
    "\n",
    "- expect 0..n files in with csv extension\n",
    "- expect sub-directories\n",
    "\n",
    "How do I list files under folder/sub-directory\n",
    "then \n",
    "how do I open, read and load csv data in-memory"
   ]
  },
  {
   "cell_type": "code",
   "execution_count": 1,
   "metadata": {},
   "outputs": [],
   "source": [
    "DIR_PATH =  '/Users/mariamarquina/Desktop/notebooks/trainer.1000/week3_day5/teams_attendance_app/data'"
   ]
  },
  {
   "cell_type": "markdown",
   "metadata": {},
   "source": []
  },
  {
   "cell_type": "code",
   "execution_count": 3,
   "metadata": {},
   "outputs": [],
   "source": [
    "import os\n",
    "\n",
    "## use `regex` to filter files/folders\n",
    "def list_files(path, sufix='csv'):\n",
    "    output = []\n",
    "    for root, dirs, files  in os.walk(DIR_PATH):\n",
    "        files_full_name = [ os.path.join(root, f) for f in files if f.endswith(sufix) ]\n",
    "        output.extend(files_full_name)\n",
    "    return output"
   ]
  },
  {
   "cell_type": "markdown",
   "metadata": {},
   "source": [
    "How to Open, read and load csv data in-memory?"
   ]
  },
  {
   "cell_type": "code",
   "execution_count": null,
   "metadata": {},
   "outputs": [],
   "source": [
    "TOTAL_NUMBER_PARTICIPANTS = \"Total Number of Participants\\t1000\"\n",
    "tokens =  TOTAL_NUMBER_PARTICIPANTS.split('\\t')\n",
    "print(tokens, type(tokens), len(tokens))\n",
    "tokens[1]\n",
    "\n",
    "# To make sure we don't hit NotIndex error do this\n",
    "total_number_participants = None\n",
    "if len(tokens) == 2:\n",
    "    total_number_participants = tokens[1]\n",
    "total_number_participants\n"
   ]
  },
  {
   "cell_type": "code",
   "execution_count": null,
   "metadata": {},
   "outputs": [],
   "source": [
    "tokens =  TOTAL_NUMBER_PARTICIPANTS.split('\\t')\n",
    "if 1 in range(len(tokens)):\n",
    "    total_number_participants = tokens[1]\n",
    "total_number_participants"
   ]
  },
  {
   "cell_type": "code",
   "execution_count": 4,
   "metadata": {},
   "outputs": [
    {
     "ename": "IndentationError",
     "evalue": "expected an indented block after 'except' statement on line 4 (1005587086.py, line 6)",
     "output_type": "error",
     "traceback": [
      "\u001b[1;36m  Cell \u001b[1;32mIn [4], line 6\u001b[1;36m\u001b[0m\n\u001b[1;33m    except Exception:\u001b[0m\n\u001b[1;37m    ^\u001b[0m\n\u001b[1;31mIndentationError\u001b[0m\u001b[1;31m:\u001b[0m expected an indented block after 'except' statement on line 4\n"
     ]
    }
   ],
   "source": [
    "try:\n",
    "    tokens =  TOTAL_NUMBER_PARTICIPANTS.split('\\t')\n",
    "    total_number_participants = tokens[1]\n",
    "except IndexError: \n",
    "    ## what to do ?? 1) Fail OR log error and move forward OR ????\n",
    "except Exception:\n",
    "    pass\n",
    "    ## what to do ?? 1) Fail OR log error and move forward OR ??"
   ]
  },
  {
   "cell_type": "code",
   "execution_count": null,
   "metadata": {},
   "outputs": [],
   "source": [
    "## refactor 3\n",
    "\n",
    "MEETING_TITLE = \"Meeting Title\"\n",
    "TOTAL_NUMBER_PARTICIPANTS = \"Total Number of Participants\"\n",
    "FULL_NAME = \"Full Name\"\n",
    "\n",
    "MEETING_START_TIME = \"Meeting Start Time\"\n",
    "MEETING_END_TIME =  \"Meeting End Time\"\n",
    "\n",
    "DEFAULT_TIMESTAMP =  '12/21/2100, 11:59:59 PM'\n",
    "\n",
    "def get_token(line, search_token):\n",
    "    if search_token not in line:\n",
    "        return None\n",
    "    return line.strip('\\n').split('\\t')[1]\n",
    "\n",
    "\n",
    "def get_meeting_title(line):\n",
    "    return get_token(line, MEETING_TITLE) or ''\n",
    "\n",
    "\n",
    "def get_total_number_participants(line):\n",
    "    total_number_participants  = get_token(line, TOTAL_NUMBER_PARTICIPANTS) or -99999\n",
    "    return int(total_number_participants)\n",
    "\n",
    "def get_meeting_start_time(line):\n",
    "    return get_token(line, MEETING_START_TIME) or DEFAULT_TIMESTAMP\n",
    "\n",
    "def get_meeting_end_time(line):\n",
    "    return get_token(line, MEETING_END_TIME) or DEFAULT_TIMESTAMP\n",
    "\n",
    "\n",
    "# obj is \n",
    "# README: https://realpython.com/python-pass-by-reference/\n",
    "def process_line(line, obj):\n",
    "    \"\"\"\n",
    "    A line can contain  \"Meeting Title\" or \"Total Number of Participants\",\n",
    "    but you cannot have both in the same line\n",
    "    In this line, if we find \"Meeting Title\" then we should not ask for \"Total Number of Participants\"\n",
    "    \"\"\"\n",
    "\n",
    "    if MEETING_TITLE in line:\n",
    "        obj['meeting_title'] =  get_meeting_title(line)\n",
    "    # else if\n",
    "    elif TOTAL_NUMBER_PARTICIPANTS in line:\n",
    "        obj['total_number_participants'] =  get_total_number_participants(line)\n",
    "    elif MEETING_START_TIME in line:\n",
    "        obj['meeting_start_time'] =  get_meeting_start_time(line)\n",
    "    elif MEETING_END_TIME in line:\n",
    "        obj['meeting_end_time'] =  get_meeting_end_time(line)\n",
    "\n",
    "def process_file_data(file):\n",
    "    obj = {}\n",
    "    ## README: https://docs.python.org/3/whatsnew/3.8.html#assignment-expressions\n",
    "    while line := file.readline():\n",
    "        process_line(line, obj)\n",
    "        ## TODO: breaak if line has `Full Name` otherwise this is reading all lines\n",
    "    return obj"
   ]
  },
  {
   "cell_type": "code",
   "execution_count": null,
   "metadata": {},
   "outputs": [],
   "source": [
    "# entr point\n",
    "meetings = []\n",
    "for path in list_files(DIR_PATH):\n",
    "    with open(path, 'r', encoding='UTF-16') as file:\n",
    "        meeting = process_file_data(file)\n",
    "        meetings.append(meeting)\n",
    "\n",
    "print(meetings)"
   ]
  },
  {
   "cell_type": "markdown",
   "metadata": {},
   "source": [
    "Read **Meeting Start Time** and **Meeting End Time** into as meeting key/value pairs,\n",
    "then calculate the time difference\n",
    "\n",
    "- Meeting Start Time\t4/25/2022, 8:22:11 AM\n",
    "- Meeting End Time\t4/25/2022, 10:16:29 AM"
   ]
  },
  {
   "cell_type": "code",
   "execution_count": null,
   "metadata": {},
   "outputs": [],
   "source": [
    "# import datetime\n",
    "from datetime import datetime\n",
    "\n",
    "meeting_start_time = '9/9/2022, 8:28:10 AM'\n",
    "meeting_end_time =  '9/9/2022, 10:09:18 AM'\n",
    "\n",
    "## Convert str to datetime\n",
    "start_dt = datetime.strptime(meeting_start_time, \"%m/%d/%Y, %I:%M:%S %p\")\n",
    "#start_dt.strftime(\"%m/%d/%Y, %H:%M:%S %p\")\n",
    "end_dt = datetime.strptime(meeting_end_time, \"%m/%d/%Y, %I:%M:%S %p\")\n",
    "\n",
    "\n",
    "## calculate the time difference\n",
    "# print(start_dt - end_dt)\n",
    "# print(end_dt - start_dt)\n",
    "\n",
    "# we assume the `end_dt >= start_dt`\n",
    "elapsed_seconds = end_dt - start_dt\n",
    "print(elapsed_seconds.days)\n",
    "print(elapsed_seconds.min)\n",
    "print(elapsed_seconds.seconds)\n",
    "\n",
    "\n",
    "## TODO generate string that constains this data \"###h ###m\"\n"
   ]
  },
  {
   "cell_type": "markdown",
   "metadata": {},
   "source": [
    "Required output\n",
    "\n",
    "```json\n",
    "{\n",
    "    'total_number_participants': 9, \n",
    "    'meeting_title': 'Python training', \n",
    "    'meeting_start_time': '9/9/2022, 8:28:10 AM', \n",
    "    'meeting_end_time': '9/9/2022, 10:09:18 AM'\n",
    "    'meeting_duration': '1h 41m'\n",
    "}\n",
    "```"
   ]
  },
  {
   "cell_type": "code",
   "execution_count": null,
   "metadata": {},
   "outputs": [],
   "source": [
    "# entr point\n",
    "meetings = []\n",
    "for path in list_files(DIR_PATH):\n",
    "    with open(path, 'r', encoding='UTF-16') as file:\n",
    "        meeting = process_file_data(file)\n",
    "        meetings.append(meeting)\n",
    "\n",
    "print(meetings)\n",
    "\n",
    "## using meetings list answer this question\n",
    "## What is the number of Partipants attending **General** Meeting per date, date filter between 9/12/2022 and 9/16/2022?\n",
    "## what are the 'Python training' number of participants between 9/1/2022 and 9/30/2022\n",
    "\n"
   ]
  }
 ],
 "metadata": {
  "kernelspec": {
   "display_name": "Python 3.10.7 ('entorno-python')",
   "language": "python",
   "name": "python3"
  },
  "language_info": {
   "codemirror_mode": {
    "name": "ipython",
    "version": 3
   },
   "file_extension": ".py",
   "mimetype": "text/x-python",
   "name": "python",
   "nbconvert_exporter": "python",
   "pygments_lexer": "ipython3",
   "version": "3.10.7"
  },
  "orig_nbformat": 4,
  "vscode": {
   "interpreter": {
    "hash": "a6c632a1711ac9d5b9dea611fed94ed6d0dd450a27a1cd9ed06f5c7f13ef6556"
   }
  }
 },
 "nbformat": 4,
 "nbformat_minor": 2
}
