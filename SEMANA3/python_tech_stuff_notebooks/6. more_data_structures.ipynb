{
 "cells": [
  {
   "cell_type": "markdown",
   "metadata": {},
   "source": [
    "Read data from files in the following directories into memory\n",
    "\n",
    "- config_files\n",
    "- data_files\n",
    "- response_files"
   ]
  },
  {
   "cell_type": "code",
   "execution_count": null,
   "metadata": {},
   "outputs": [],
   "source": [
    "# data as txt file\n",
    "\n",
    "CSV_FILE = \"/Users/mariamarquina/Desktop/notebooks/trainer.1000/notebooks/data_files/Sent.csv\"\n",
    "\n",
    "with open(CSV_FILE, 'r', encoding='UTF-16') as file:\n",
    "    ## inflar los datos del file en un objeto del tipo list\n",
    "    raw_data = file.readlines()\n",
    "print(type(raw_data), type(raw_data[0]))\n",
    "\n",
    "\n",
    "## process the data by extracting all fields values\n",
    "# get the headers (los nombres de los campos)\n",
    "# JIC headers in csv are optional\n",
    "cnt = 0\n",
    "data = []\n",
    "for line in raw_data:\n",
    "    if cnt == 0:\n",
    "        header_names = line.split(\",\")\n",
    "        cnt +=1\n",
    "    else:\n",
    "        data.append(line.split(\",\"))\n",
    "\n",
    "print(header_names)\n",
    "print(data)\n",
    "## clean \\n\n",
    "## clean double quotes\n",
    "## process data to get proper datatypes\n",
    "\n"
   ]
  },
  {
   "cell_type": "code",
   "execution_count": 12,
   "metadata": {},
   "outputs": [
    {
     "name": "stdout",
     "output_type": "stream",
     "text": [
      "ClientID, SendID, SubscriberKey, EmailAddress, SubscriberID, ListID, EventDate, EventType, BatchID, TriggeredSendExternalKey\n",
      "526003165, 27065, 0033l00002uHEUJAA4, danpugsley@hotmail.com, 13281997, 6975, 3/7/2022 10:31:36.247 AM, Sent, 79, 10024\n",
      "526003165, 27065, 0033l00002vPu12AAC, fruiz_13@yahoo.com, 19668660, 6975, 3/7/2022 10:31:36.247 AM, Sent, 79, 10024\n",
      "526003165, 27065, 0033l00002wyfFsAAI, jason_costello@outlook.com, 22505779, 6975, 3/7/2022 10:31:36.247 AM, Sent, 79, 10024\n",
      "526003165, 27071, 0033l00002xNxnxAAC, dklein1313@gmail.com, 22884601, 6975, 3/7/2022 07:06:31.837 PM, Sent, 196, 10029\n",
      "526003165, 27071, 0033l00002xPaO6AAK, bjrichardson53@yahoo.com, 23216195, 6975, 3/7/2022 12:06:37.020 PM, Sent, 193, 10029\n",
      "526003165, 27065, 0033l00002xQfE0AAK, marilynreneau@yahoo.com, 23308400, 6975, 3/7/2022 10:31:36.247 AM, Sent, 79, 10024\n",
      "526003165, 27071, 0033l00002xw1toAAA, jam1354@gmail.com, 23437507, 6975, 3/7/2022 03:06:34.833 PM, Sent, 195, 10029\n",
      "526003165, 27071, 0033l00002xwDttAAE, njain2@hotmail.com, 23539421, 6975, 3/7/2022 03:06:34.833 PM, Sent, 195, 10029\n",
      "526003165, 27071, 0033l00002xwXbNAAU, sarygarcia8185@gmail.com, 23718438, 6975, 3/7/2022 01:06:33.510 PM, Sent, 194, 10029\n"
     ]
    }
   ],
   "source": [
    "# CSV data from csv file\n",
    "\n",
    "import csv\n",
    "CSV_FILE = \"/Users/mariamarquina/Desktop/notebooks/trainer.1000/notebooks/data_files/Sent.csv\"\n",
    "\n",
    "# 1. open file -> referencia (handle) to the fike\n",
    "# 2. csv.reader gets the handle\n",
    "\n",
    "\n",
    "with open(CSV_FILE, 'r', encoding=\"UTF-16\") as file:\n",
    "    csv_reader = csv.reader(file, delimiter=\",\")\n",
    "    # print(type(csv_reader))\n",
    "    for line in csv_reader:\n",
    "        # print(type(line))\n",
    "        # print(line)\n",
    "        print(', '.join(line))\n",
    "\n",
    "\n",
    "# CSV como un dictionary\n",
    "# using csv.DictReader\n"
   ]
  },
  {
   "cell_type": "markdown",
   "metadata": {},
   "source": [
    "# What are the options to READ YAML files"
   ]
  }
 ],
 "metadata": {
  "kernelspec": {
   "display_name": "Python 3.10.7 ('entorno-python')",
   "language": "python",
   "name": "python3"
  },
  "language_info": {
   "codemirror_mode": {
    "name": "ipython",
    "version": 3
   },
   "file_extension": ".py",
   "mimetype": "text/x-python",
   "name": "python",
   "nbconvert_exporter": "python",
   "pygments_lexer": "ipython3",
   "version": "3.10.7"
  },
  "orig_nbformat": 4,
  "vscode": {
   "interpreter": {
    "hash": "a6c632a1711ac9d5b9dea611fed94ed6d0dd450a27a1cd9ed06f5c7f13ef6556"
   }
  }
 },
 "nbformat": 4,
 "nbformat_minor": 2
}
