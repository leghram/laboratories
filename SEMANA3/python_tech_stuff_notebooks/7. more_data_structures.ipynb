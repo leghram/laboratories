{
 "cells": [
  {
   "cell_type": "markdown",
   "metadata": {},
   "source": [
    "Read data from files in the following directories into memory\n",
    "\n",
    "- config_files\n",
    "- data_files\n",
    "- response_files"
   ]
  },
  {
   "cell_type": "code",
   "execution_count": 6,
   "metadata": {},
   "outputs": [
    {
     "name": "stdout",
     "output_type": "stream",
     "text": [
      "<class 'list'> <class 'str'>\n",
      "['\"ClientID\"', '\"SendID\"', '\"SubscriberKey\"', '\"EmailAddress\"', '\"SubscriberID\"', '\"ListID\"', '\"EventDate\"', '\"EventType\"', '\"BatchID\"', '\"TriggeredSendExternalKey\"\\n']\n",
      "[['526003165', '27065', '\"0033l00002uHEUJAA4\"', '\"danpugsley@hotmail.com\"', '13281997', '6975', '3/7/2022 10:31:36.247 AM', '\"Sent\"', '79', '\"10024\"\\n'], ['526003165', '27065', '\"0033l00002vPu12AAC\"', '\"fruiz_13@yahoo.com\"', '19668660', '6975', '3/7/2022 10:31:36.247 AM', '\"Sent\"', '79', '\"10024\"\\n'], ['526003165', '27065', '\"0033l00002wyfFsAAI\"', '\"jason_costello@outlook.com\"', '22505779', '6975', '3/7/2022 10:31:36.247 AM', '\"Sent\"', '79', '\"10024\"\\n'], ['526003165', '27071', '\"0033l00002xNxnxAAC\"', '\"dklein1313@gmail.com\"', '22884601', '6975', '3/7/2022 07:06:31.837 PM', '\"Sent\"', '196', '\"10029\"\\n'], ['526003165', '27071', '\"0033l00002xPaO6AAK\"', '\"bjrichardson53@yahoo.com\"', '23216195', '6975', '3/7/2022 12:06:37.020 PM', '\"Sent\"', '193', '\"10029\"\\n'], ['526003165', '27065', '\"0033l00002xQfE0AAK\"', '\"marilynreneau@yahoo.com\"', '23308400', '6975', '3/7/2022 10:31:36.247 AM', '\"Sent\"', '79', '\"10024\"\\n'], ['526003165', '27071', '\"0033l00002xw1toAAA\"', '\"jam1354@gmail.com\"', '23437507', '6975', '3/7/2022 03:06:34.833 PM', '\"Sent\"', '195', '\"10029\"\\n'], ['526003165', '27071', '\"0033l00002xwDttAAE\"', '\"njain2@hotmail.com\"', '23539421', '6975', '3/7/2022 03:06:34.833 PM', '\"Sent\"', '195', '\"10029\"\\n'], ['526003165', '27071', '\"0033l00002xwXbNAAU\"', '\"sarygarcia8185@gmail.com\"', '23718438', '6975', '3/7/2022 01:06:33.510 PM', '\"Sent\"', '194', '\"10029\"']]\n"
     ]
    }
   ],
   "source": [
    "# data as txt file\n",
    "\n",
    "CSV_FILE = \"c:/Users/ASUS/Desktop/LABORATORIOS-JALASOFT/PYTHON/SEMANA3/python_tech_stuff_notebooks/data_files/Sent.csv\"\n",
    "\n",
    "with open(CSV_FILE, 'r', encoding='UTF-16') as file:\n",
    "    ## inflar los datos del file en un objeto del tipo list\n",
    "    raw_data = file.readlines()\n",
    "print(type(raw_data), type(raw_data[0]))\n",
    "\n",
    "\n",
    "## process the data by extracting all fields values\n",
    "# get the headers (los nombres de los campos)\n",
    "# JIC headers in csv are optional\n",
    "cnt = 0\n",
    "data = []\n",
    "for line in raw_data:\n",
    "    if cnt == 0:\n",
    "        header_names = line.split(\",\")\n",
    "        cnt +=1\n",
    "    else:\n",
    "        data.append(line.split(\",\"))\n",
    "\n",
    "print(header_names)\n",
    "print(data)\n",
    "## clean \\n\n",
    "## clean double quotes\n",
    "## process data to get proper datatypes\n",
    "\n"
   ]
  },
  {
   "cell_type": "code",
   "execution_count": null,
   "metadata": {},
   "outputs": [],
   "source": [
    "# CSV data from csv file\n",
    "\n",
    "import csv\n",
    "CSV_FILE = \"c:/Users/ASUS/Desktop/LABORATORIOS-JALASOFT/PYTHON/SEMANA3/python_tech_stuff_notebooks/data_files/Sent.csv\"\n",
    "\n",
    "# 1. open file -> referencia (handle) to the fike\n",
    "# 2. csv.reader gets the handle\n",
    "\n",
    "\n",
    "with open(CSV_FILE, 'r', encoding=\"UTF-16\") as file:\n",
    "    csv_reader = csv.reader(file, delimiter=\",\")\n",
    "    # print(type(csv_reader))\n",
    "    for line in csv_reader:\n",
    "        # print(type(line))\n",
    "        print(line)\n",
    "        print(', '.join(line))\n",
    "\n",
    "\n",
    "# CSV como un dictionary\n",
    "# using csv.DictReader\n"
   ]
  },
  {
   "cell_type": "code",
   "execution_count": null,
   "metadata": {},
   "outputs": [],
   "source": [
    "import csv\n",
    "# from csv import reader\n",
    "\n",
    "CSV_FILE = \"c:/Users/ASUS/Desktop/LABORATORIOS-JALASOFT/PYTHON/SEMANA3/python_tech_stuff_notebooks/data_files/Sent.csv\"\n",
    "\n",
    "with open(CSV_FILE, 'r', encoding=\"UTF-16\") as csv_reader:\n",
    "    dict_reader =  csv.DictReader(csv_reader)\n",
    "    print(dict_reader, type(dict_reader))"
   ]
  },
  {
   "cell_type": "code",
   "execution_count": 8,
   "metadata": {},
   "outputs": [
    {
     "name": "stdout",
     "output_type": "stream",
     "text": [
      "{'ClientID': '526003165', 'SendID': '27065', 'SubscriberKey': '0033l00002uHEUJAA4', 'EmailAddress': 'danpugsley@hotmail.com', 'SubscriberID': '13281997', 'ListID': '6975', 'EventDate': '3/7/2022 10:31:36.247 AM', 'EventType': 'Sent', 'BatchID': '79', 'TriggeredSendExternalKey': '10024'} <class 'dict'>\n",
      "\n",
      "{'ClientID': '526003165', 'SendID': '27065', 'SubscriberKey': '0033l00002vPu12AAC', 'EmailAddress': 'fruiz_13@yahoo.com', 'SubscriberID': '19668660', 'ListID': '6975', 'EventDate': '3/7/2022 10:31:36.247 AM', 'EventType': 'Sent', 'BatchID': '79', 'TriggeredSendExternalKey': '10024'} <class 'dict'>\n",
      "\n",
      "{'ClientID': '526003165', 'SendID': '27065', 'SubscriberKey': '0033l00002wyfFsAAI', 'EmailAddress': 'jason_costello@outlook.com', 'SubscriberID': '22505779', 'ListID': '6975', 'EventDate': '3/7/2022 10:31:36.247 AM', 'EventType': 'Sent', 'BatchID': '79', 'TriggeredSendExternalKey': '10024'} <class 'dict'>\n",
      "\n",
      "{'ClientID': '526003165', 'SendID': '27071', 'SubscriberKey': '0033l00002xNxnxAAC', 'EmailAddress': 'dklein1313@gmail.com', 'SubscriberID': '22884601', 'ListID': '6975', 'EventDate': '3/7/2022 07:06:31.837 PM', 'EventType': 'Sent', 'BatchID': '196', 'TriggeredSendExternalKey': '10029'} <class 'dict'>\n",
      "\n",
      "{'ClientID': '526003165', 'SendID': '27071', 'SubscriberKey': '0033l00002xPaO6AAK', 'EmailAddress': 'bjrichardson53@yahoo.com', 'SubscriberID': '23216195', 'ListID': '6975', 'EventDate': '3/7/2022 12:06:37.020 PM', 'EventType': 'Sent', 'BatchID': '193', 'TriggeredSendExternalKey': '10029'} <class 'dict'>\n",
      "\n",
      "{'ClientID': '526003165', 'SendID': '27065', 'SubscriberKey': '0033l00002xQfE0AAK', 'EmailAddress': 'marilynreneau@yahoo.com', 'SubscriberID': '23308400', 'ListID': '6975', 'EventDate': '3/7/2022 10:31:36.247 AM', 'EventType': 'Sent', 'BatchID': '79', 'TriggeredSendExternalKey': '10024'} <class 'dict'>\n",
      "\n",
      "{'ClientID': '526003165', 'SendID': '27071', 'SubscriberKey': '0033l00002xw1toAAA', 'EmailAddress': 'jam1354@gmail.com', 'SubscriberID': '23437507', 'ListID': '6975', 'EventDate': '3/7/2022 03:06:34.833 PM', 'EventType': 'Sent', 'BatchID': '195', 'TriggeredSendExternalKey': '10029'} <class 'dict'>\n",
      "\n",
      "{'ClientID': '526003165', 'SendID': '27071', 'SubscriberKey': '0033l00002xwDttAAE', 'EmailAddress': 'njain2@hotmail.com', 'SubscriberID': '23539421', 'ListID': '6975', 'EventDate': '3/7/2022 03:06:34.833 PM', 'EventType': 'Sent', 'BatchID': '195', 'TriggeredSendExternalKey': '10029'} <class 'dict'>\n",
      "\n",
      "{'ClientID': '526003165', 'SendID': '27071', 'SubscriberKey': '0033l00002xwXbNAAU', 'EmailAddress': 'sarygarcia8185@gmail.com', 'SubscriberID': '23718438', 'ListID': '6975', 'EventDate': '3/7/2022 01:06:33.510 PM', 'EventType': 'Sent', 'BatchID': '194', 'TriggeredSendExternalKey': '10029'} <class 'dict'>\n",
      "\n"
     ]
    }
   ],
   "source": [
    "import csv\n",
    "\n",
    "CSV_FILE = \"c:/Users/ASUS/Desktop/LABORATORIOS-JALASOFT/PYTHON/SEMANA3/python_tech_stuff_notebooks/data_files/Sent.csv\"\n",
    "\n",
    "\n",
    "# \n",
    "\n",
    "with open(CSV_FILE, 'r', encoding=\"UTF-16\") as csv_reader:\n",
    "    dict_reader =  csv.DictReader(csv_reader, )\n",
    "    for line in dict_reader:\n",
    "        print(line, type(line))\n",
    "        print()"
   ]
  },
  {
   "cell_type": "code",
   "execution_count": 9,
   "metadata": {},
   "outputs": [
    {
     "name": "stdout",
     "output_type": "stream",
     "text": [
      "{'ClientID': 526003165, 'SendID': 27065, 'SubscriberKey': '0033l00002uHEUJAA4', 'EmailAddress': 'danpugsley@hotmail.com', 'SubscriberID': '13281997', 'ListID': '6975', 'EventDate': '3/7/2022 10:31:36.247 AM', 'EventType': 'Sent', 'BatchID': '79', 'TriggeredSendExternalKey': '10024'}\n"
     ]
    }
   ],
   "source": [
    "def process_line_dict(dict):\n",
    "    for key, value in dict.items():\n",
    "        if key == 'ClientID':\n",
    "            dict['ClientID'] = int(value)\n",
    "        if key == 'SendID':\n",
    "            dict['SendID'] = int(value)\n",
    "    # return dict\n",
    "\n",
    "dict = {'ClientID': '526003165', 'SendID': '27065', 'SubscriberKey': '0033l00002uHEUJAA4', 'EmailAddress': 'danpugsley@hotmail.com', 'SubscriberID': '13281997', 'ListID': '6975', 'EventDate': '3/7/2022 10:31:36.247 AM', 'EventType': 'Sent', 'BatchID': '79', 'TriggeredSendExternalKey': '10024'}\n",
    "process_line_dict(dict)\n",
    "print(dict)"
   ]
  },
  {
   "cell_type": "code",
   "execution_count": 10,
   "metadata": {},
   "outputs": [
    {
     "name": "stdout",
     "output_type": "stream",
     "text": [
      "[{'ClientID': 526003165, 'SendID': 27065, 'SubscriberKey': '0033l00002uHEUJAA4', 'EmailAddress': 'danpugsley@hotmail.com', 'SubscriberID': '13281997', 'ListID': '6975', 'EventDate': '3/7/2022 10:31:36.247 AM', 'EventType': 'Sent', 'BatchID': '79', 'TriggeredSendExternalKey': '10024'}, {'ClientID': 526003165, 'SendID': 27065, 'SubscriberKey': '0033l00002vPu12AAC', 'EmailAddress': 'fruiz_13@yahoo.com', 'SubscriberID': '19668660', 'ListID': '6975', 'EventDate': '3/7/2022 10:31:36.247 AM', 'EventType': 'Sent', 'BatchID': '79', 'TriggeredSendExternalKey': '10024'}, {'ClientID': 526003165, 'SendID': 27065, 'SubscriberKey': '0033l00002wyfFsAAI', 'EmailAddress': 'jason_costello@outlook.com', 'SubscriberID': '22505779', 'ListID': '6975', 'EventDate': '3/7/2022 10:31:36.247 AM', 'EventType': 'Sent', 'BatchID': '79', 'TriggeredSendExternalKey': '10024'}, {'ClientID': 526003165, 'SendID': 27071, 'SubscriberKey': '0033l00002xNxnxAAC', 'EmailAddress': 'dklein1313@gmail.com', 'SubscriberID': '22884601', 'ListID': '6975', 'EventDate': '3/7/2022 07:06:31.837 PM', 'EventType': 'Sent', 'BatchID': '196', 'TriggeredSendExternalKey': '10029'}, {'ClientID': 526003165, 'SendID': 27071, 'SubscriberKey': '0033l00002xPaO6AAK', 'EmailAddress': 'bjrichardson53@yahoo.com', 'SubscriberID': '23216195', 'ListID': '6975', 'EventDate': '3/7/2022 12:06:37.020 PM', 'EventType': 'Sent', 'BatchID': '193', 'TriggeredSendExternalKey': '10029'}, {'ClientID': 526003165, 'SendID': 27065, 'SubscriberKey': '0033l00002xQfE0AAK', 'EmailAddress': 'marilynreneau@yahoo.com', 'SubscriberID': '23308400', 'ListID': '6975', 'EventDate': '3/7/2022 10:31:36.247 AM', 'EventType': 'Sent', 'BatchID': '79', 'TriggeredSendExternalKey': '10024'}, {'ClientID': 526003165, 'SendID': 27071, 'SubscriberKey': '0033l00002xw1toAAA', 'EmailAddress': 'jam1354@gmail.com', 'SubscriberID': '23437507', 'ListID': '6975', 'EventDate': '3/7/2022 03:06:34.833 PM', 'EventType': 'Sent', 'BatchID': '195', 'TriggeredSendExternalKey': '10029'}, {'ClientID': 526003165, 'SendID': 27071, 'SubscriberKey': '0033l00002xwDttAAE', 'EmailAddress': 'njain2@hotmail.com', 'SubscriberID': '23539421', 'ListID': '6975', 'EventDate': '3/7/2022 03:06:34.833 PM', 'EventType': 'Sent', 'BatchID': '195', 'TriggeredSendExternalKey': '10029'}, {'ClientID': 526003165, 'SendID': 27071, 'SubscriberKey': '0033l00002xwXbNAAU', 'EmailAddress': 'sarygarcia8185@gmail.com', 'SubscriberID': '23718438', 'ListID': '6975', 'EventDate': '3/7/2022 01:06:33.510 PM', 'EventType': 'Sent', 'BatchID': '194', 'TriggeredSendExternalKey': '10029'}]\n"
     ]
    }
   ],
   "source": [
    "with open(CSV_FILE, 'r', encoding=\"UTF-16\") as csv_reader:\n",
    "    dict_reader =  csv.DictReader(csv_reader, )\n",
    "    data = []\n",
    "    for line in dict_reader:\n",
    "        process_line_dict(line)\n",
    "        data.append(line)\n",
    "        # print(line)\n",
    "print(data)"
   ]
  },
  {
   "cell_type": "code",
   "execution_count": 11,
   "metadata": {},
   "outputs": [
    {
     "name": "stdout",
     "output_type": "stream",
     "text": [
      "[{'ClientID': 526003165, 'SendID': 27065, 'SubscriberKey': '0033l00002uHEUJAA4', 'EmailAddress': 'danpugsley@hotmail.com', 'SubscriberID': '13281997', 'ListID': '6975', 'EventDate': '3/7/2022 10:31:36.247 AM', 'EventType': 'Sent', 'BatchID': '79', 'TriggeredSendExternalKey': '10024'}, {'ClientID': 526003165, 'SendID': 27065, 'SubscriberKey': '0033l00002vPu12AAC', 'EmailAddress': 'fruiz_13@yahoo.com', 'SubscriberID': '19668660', 'ListID': '6975', 'EventDate': '3/7/2022 10:31:36.247 AM', 'EventType': 'Sent', 'BatchID': '79', 'TriggeredSendExternalKey': '10024'}, {'ClientID': 526003165, 'SendID': 27065, 'SubscriberKey': '0033l00002wyfFsAAI', 'EmailAddress': 'jason_costello@outlook.com', 'SubscriberID': '22505779', 'ListID': '6975', 'EventDate': '3/7/2022 10:31:36.247 AM', 'EventType': 'Sent', 'BatchID': '79', 'TriggeredSendExternalKey': '10024'}, {'ClientID': 526003165, 'SendID': 27071, 'SubscriberKey': '0033l00002xNxnxAAC', 'EmailAddress': 'dklein1313@gmail.com', 'SubscriberID': '22884601', 'ListID': '6975', 'EventDate': '3/7/2022 07:06:31.837 PM', 'EventType': 'Sent', 'BatchID': '196', 'TriggeredSendExternalKey': '10029'}, {'ClientID': 526003165, 'SendID': 27071, 'SubscriberKey': '0033l00002xPaO6AAK', 'EmailAddress': 'bjrichardson53@yahoo.com', 'SubscriberID': '23216195', 'ListID': '6975', 'EventDate': '3/7/2022 12:06:37.020 PM', 'EventType': 'Sent', 'BatchID': '193', 'TriggeredSendExternalKey': '10029'}, {'ClientID': 526003165, 'SendID': 27065, 'SubscriberKey': '0033l00002xQfE0AAK', 'EmailAddress': 'marilynreneau@yahoo.com', 'SubscriberID': '23308400', 'ListID': '6975', 'EventDate': '3/7/2022 10:31:36.247 AM', 'EventType': 'Sent', 'BatchID': '79', 'TriggeredSendExternalKey': '10024'}, {'ClientID': 526003165, 'SendID': 27071, 'SubscriberKey': '0033l00002xw1toAAA', 'EmailAddress': 'jam1354@gmail.com', 'SubscriberID': '23437507', 'ListID': '6975', 'EventDate': '3/7/2022 03:06:34.833 PM', 'EventType': 'Sent', 'BatchID': '195', 'TriggeredSendExternalKey': '10029'}, {'ClientID': 526003165, 'SendID': 27071, 'SubscriberKey': '0033l00002xwDttAAE', 'EmailAddress': 'njain2@hotmail.com', 'SubscriberID': '23539421', 'ListID': '6975', 'EventDate': '3/7/2022 03:06:34.833 PM', 'EventType': 'Sent', 'BatchID': '195', 'TriggeredSendExternalKey': '10029'}, {'ClientID': 526003165, 'SendID': 27071, 'SubscriberKey': '0033l00002xwXbNAAU', 'EmailAddress': 'sarygarcia8185@gmail.com', 'SubscriberID': '23718438', 'ListID': '6975', 'EventDate': '3/7/2022 01:06:33.510 PM', 'EventType': 'Sent', 'BatchID': '194', 'TriggeredSendExternalKey': '10029'}]\n"
     ]
    }
   ],
   "source": [
    "def process_line_dict(dict):\n",
    "    for key, value in dict.items():\n",
    "        if key == 'ClientID':\n",
    "            dict['ClientID'] = int(value)\n",
    "        if key == 'SendID':\n",
    "            dict['SendID'] = int(value)\n",
    "    return dict\n",
    "\n",
    "with open(CSV_FILE, 'r', encoding=\"UTF-16\") as csv_reader:\n",
    "    dict_reader =  csv.DictReader(csv_reader, )\n",
    "    data = [ process_line_dict(line) for line in dict_reader]\n",
    "\n",
    "## TODO bussiness logic data\n",
    "\n",
    "print(data)"
   ]
  },
  {
   "cell_type": "code",
   "execution_count": 12,
   "metadata": {},
   "outputs": [
    {
     "ename": "JSONDecodeError",
     "evalue": "Expecting value: line 3 column 13 (char 18)",
     "output_type": "error",
     "traceback": [
      "\u001b[1;31m---------------------------------------------------------------------------\u001b[0m",
      "\u001b[1;31mJSONDecodeError\u001b[0m                           Traceback (most recent call last)",
      "Cell \u001b[1;32mIn [12], line 27\u001b[0m\n\u001b[0;32m     24\u001b[0m JSON_FILE_PATH \u001b[38;5;241m=\u001b[39m \u001b[38;5;124m\"\u001b[39m\u001b[38;5;124mc:/Users/ASUS/Desktop/LABORATORIOS-JALASOFT/PYTHON/SEMANA3/python_tech_stuff_notebooks/response_files/States.json\u001b[39m\u001b[38;5;124m\"\u001b[39m\n\u001b[0;32m     26\u001b[0m \u001b[38;5;28;01mwith\u001b[39;00m \u001b[38;5;28mopen\u001b[39m(JSON_FILE_PATH, \u001b[38;5;124m'\u001b[39m\u001b[38;5;124mr\u001b[39m\u001b[38;5;124m'\u001b[39m) \u001b[38;5;28;01mas\u001b[39;00m json_file:\n\u001b[1;32m---> 27\u001b[0m     json_object \u001b[38;5;241m=\u001b[39m json\u001b[38;5;241m.\u001b[39mload(json_file)\n\u001b[0;32m     28\u001b[0m \u001b[38;5;28mprint\u001b[39m(json_object, \u001b[38;5;28mtype\u001b[39m(json_object))\n",
      "File \u001b[1;32mC:\\Program Files\\WindowsApps\\PythonSoftwareFoundation.Python.3.10_3.10.2032.0_x64__qbz5n2kfra8p0\\lib\\json\\__init__.py:293\u001b[0m, in \u001b[0;36mload\u001b[1;34m(fp, cls, object_hook, parse_float, parse_int, parse_constant, object_pairs_hook, **kw)\u001b[0m\n\u001b[0;32m    274\u001b[0m \u001b[39mdef\u001b[39;00m \u001b[39mload\u001b[39m(fp, \u001b[39m*\u001b[39m, \u001b[39mcls\u001b[39m\u001b[39m=\u001b[39m\u001b[39mNone\u001b[39;00m, object_hook\u001b[39m=\u001b[39m\u001b[39mNone\u001b[39;00m, parse_float\u001b[39m=\u001b[39m\u001b[39mNone\u001b[39;00m,\n\u001b[0;32m    275\u001b[0m         parse_int\u001b[39m=\u001b[39m\u001b[39mNone\u001b[39;00m, parse_constant\u001b[39m=\u001b[39m\u001b[39mNone\u001b[39;00m, object_pairs_hook\u001b[39m=\u001b[39m\u001b[39mNone\u001b[39;00m, \u001b[39m*\u001b[39m\u001b[39m*\u001b[39mkw):\n\u001b[0;32m    276\u001b[0m     \u001b[39m\"\"\"Deserialize ``fp`` (a ``.read()``-supporting file-like object containing\u001b[39;00m\n\u001b[0;32m    277\u001b[0m \u001b[39m    a JSON document) to a Python object.\u001b[39;00m\n\u001b[0;32m    278\u001b[0m \n\u001b[1;32m   (...)\u001b[0m\n\u001b[0;32m    291\u001b[0m \u001b[39m    kwarg; otherwise ``JSONDecoder`` is used.\u001b[39;00m\n\u001b[0;32m    292\u001b[0m \u001b[39m    \"\"\"\u001b[39;00m\n\u001b[1;32m--> 293\u001b[0m     \u001b[39mreturn\u001b[39;00m loads(fp\u001b[39m.\u001b[39mread(),\n\u001b[0;32m    294\u001b[0m         \u001b[39mcls\u001b[39m\u001b[39m=\u001b[39m\u001b[39mcls\u001b[39m, object_hook\u001b[39m=\u001b[39mobject_hook,\n\u001b[0;32m    295\u001b[0m         parse_float\u001b[39m=\u001b[39mparse_float, parse_int\u001b[39m=\u001b[39mparse_int,\n\u001b[0;32m    296\u001b[0m         parse_constant\u001b[39m=\u001b[39mparse_constant, object_pairs_hook\u001b[39m=\u001b[39mobject_pairs_hook, \u001b[39m*\u001b[39m\u001b[39m*\u001b[39mkw)\n",
      "File \u001b[1;32mC:\\Program Files\\WindowsApps\\PythonSoftwareFoundation.Python.3.10_3.10.2032.0_x64__qbz5n2kfra8p0\\lib\\json\\__init__.py:346\u001b[0m, in \u001b[0;36mloads\u001b[1;34m(s, cls, object_hook, parse_float, parse_int, parse_constant, object_pairs_hook, **kw)\u001b[0m\n\u001b[0;32m    341\u001b[0m     s \u001b[39m=\u001b[39m s\u001b[39m.\u001b[39mdecode(detect_encoding(s), \u001b[39m'\u001b[39m\u001b[39msurrogatepass\u001b[39m\u001b[39m'\u001b[39m)\n\u001b[0;32m    343\u001b[0m \u001b[39mif\u001b[39;00m (\u001b[39mcls\u001b[39m \u001b[39mis\u001b[39;00m \u001b[39mNone\u001b[39;00m \u001b[39mand\u001b[39;00m object_hook \u001b[39mis\u001b[39;00m \u001b[39mNone\u001b[39;00m \u001b[39mand\u001b[39;00m\n\u001b[0;32m    344\u001b[0m         parse_int \u001b[39mis\u001b[39;00m \u001b[39mNone\u001b[39;00m \u001b[39mand\u001b[39;00m parse_float \u001b[39mis\u001b[39;00m \u001b[39mNone\u001b[39;00m \u001b[39mand\u001b[39;00m\n\u001b[0;32m    345\u001b[0m         parse_constant \u001b[39mis\u001b[39;00m \u001b[39mNone\u001b[39;00m \u001b[39mand\u001b[39;00m object_pairs_hook \u001b[39mis\u001b[39;00m \u001b[39mNone\u001b[39;00m \u001b[39mand\u001b[39;00m \u001b[39mnot\u001b[39;00m kw):\n\u001b[1;32m--> 346\u001b[0m     \u001b[39mreturn\u001b[39;00m _default_decoder\u001b[39m.\u001b[39;49mdecode(s)\n\u001b[0;32m    347\u001b[0m \u001b[39mif\u001b[39;00m \u001b[39mcls\u001b[39m \u001b[39mis\u001b[39;00m \u001b[39mNone\u001b[39;00m:\n\u001b[0;32m    348\u001b[0m     \u001b[39mcls\u001b[39m \u001b[39m=\u001b[39m JSONDecoder\n",
      "File \u001b[1;32mC:\\Program Files\\WindowsApps\\PythonSoftwareFoundation.Python.3.10_3.10.2032.0_x64__qbz5n2kfra8p0\\lib\\json\\decoder.py:337\u001b[0m, in \u001b[0;36mJSONDecoder.decode\u001b[1;34m(self, s, _w)\u001b[0m\n\u001b[0;32m    332\u001b[0m \u001b[39mdef\u001b[39;00m \u001b[39mdecode\u001b[39m(\u001b[39mself\u001b[39m, s, _w\u001b[39m=\u001b[39mWHITESPACE\u001b[39m.\u001b[39mmatch):\n\u001b[0;32m    333\u001b[0m     \u001b[39m\"\"\"Return the Python representation of ``s`` (a ``str`` instance\u001b[39;00m\n\u001b[0;32m    334\u001b[0m \u001b[39m    containing a JSON document).\u001b[39;00m\n\u001b[0;32m    335\u001b[0m \n\u001b[0;32m    336\u001b[0m \u001b[39m    \"\"\"\u001b[39;00m\n\u001b[1;32m--> 337\u001b[0m     obj, end \u001b[39m=\u001b[39m \u001b[39mself\u001b[39;49m\u001b[39m.\u001b[39;49mraw_decode(s, idx\u001b[39m=\u001b[39;49m_w(s, \u001b[39m0\u001b[39;49m)\u001b[39m.\u001b[39;49mend())\n\u001b[0;32m    338\u001b[0m     end \u001b[39m=\u001b[39m _w(s, end)\u001b[39m.\u001b[39mend()\n\u001b[0;32m    339\u001b[0m     \u001b[39mif\u001b[39;00m end \u001b[39m!=\u001b[39m \u001b[39mlen\u001b[39m(s):\n",
      "File \u001b[1;32mC:\\Program Files\\WindowsApps\\PythonSoftwareFoundation.Python.3.10_3.10.2032.0_x64__qbz5n2kfra8p0\\lib\\json\\decoder.py:355\u001b[0m, in \u001b[0;36mJSONDecoder.raw_decode\u001b[1;34m(self, s, idx)\u001b[0m\n\u001b[0;32m    353\u001b[0m     obj, end \u001b[39m=\u001b[39m \u001b[39mself\u001b[39m\u001b[39m.\u001b[39mscan_once(s, idx)\n\u001b[0;32m    354\u001b[0m \u001b[39mexcept\u001b[39;00m \u001b[39mStopIteration\u001b[39;00m \u001b[39mas\u001b[39;00m err:\n\u001b[1;32m--> 355\u001b[0m     \u001b[39mraise\u001b[39;00m JSONDecodeError(\u001b[39m\"\u001b[39m\u001b[39mExpecting value\u001b[39m\u001b[39m\"\u001b[39m, s, err\u001b[39m.\u001b[39mvalue) \u001b[39mfrom\u001b[39;00m \u001b[39mNone\u001b[39m\n\u001b[0;32m    356\u001b[0m \u001b[39mreturn\u001b[39;00m obj, end\n",
      "\u001b[1;31mJSONDecodeError\u001b[0m: Expecting value: line 3 column 13 (char 18)"
     ]
    }
   ],
   "source": [
    "#  json files\n",
    "\n",
    "# Python dict\n",
    "# json   object\n",
    "\n",
    "# list, tuple  ->   array\n",
    "# str  ->   string\n",
    "\n",
    "# None -> null\n",
    "\n",
    "\n",
    "# serialize - takes an object (str, list, dictionary, user defined datatype) and converst to .....01010000  \n",
    "## con el fin de guardar el objeto en un archivo en txt, en json, en otro formato....\n",
    "## transmitirlo usando http protocol\n",
    "\n",
    "# de-serialize - takes 01100001 (bytes) and inflates into a str, list, dictionary, user defined datatype\n",
    "## ejemplo: read of txt or json file, or other file...or read data from a stream\n",
    "\n",
    "\n",
    "import json # native library\n",
    "# Open the file\n",
    "#  do something with the file\n",
    "\n",
    "JSON_FILE_PATH = \"c:/Users/ASUS/Desktop/LABORATORIOS-JALASOFT/PYTHON/SEMANA3/python_tech_stuff_notebooks/response_files/States.json\"\n",
    "\n",
    "with open(JSON_FILE_PATH, 'r') as json_file:\n",
    "    json_object = json.load(json_file)\n",
    "print(json_object, type(json_object))"
   ]
  },
  {
   "cell_type": "code",
   "execution_count": null,
   "metadata": {},
   "outputs": [],
   "source": []
  },
  {
   "cell_type": "code",
   "execution_count": null,
   "metadata": {},
   "outputs": [],
   "source": [
    "# What are the options to READ YAML files\n"
   ]
  }
 ],
 "metadata": {
  "kernelspec": {
   "display_name": "Python 3.10.7 ('entorno-python')",
   "language": "python",
   "name": "python3"
  },
  "language_info": {
   "codemirror_mode": {
    "name": "ipython",
    "version": 3
   },
   "file_extension": ".py",
   "mimetype": "text/x-python",
   "name": "python",
   "nbconvert_exporter": "python",
   "pygments_lexer": "ipython3",
   "version": "3.10.7"
  },
  "orig_nbformat": 4,
  "vscode": {
   "interpreter": {
    "hash": "a6c632a1711ac9d5b9dea611fed94ed6d0dd450a27a1cd9ed06f5c7f13ef6556"
   }
  }
 },
 "nbformat": 4,
 "nbformat_minor": 2
}
