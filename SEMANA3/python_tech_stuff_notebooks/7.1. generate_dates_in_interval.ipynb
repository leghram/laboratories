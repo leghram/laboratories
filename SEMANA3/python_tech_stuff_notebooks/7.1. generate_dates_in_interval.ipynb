{
 "cells": [
  {
   "cell_type": "markdown",
   "metadata": {},
   "source": [
    "Generate dates between 9/12/2022 and 9/16/2022\n",
    "* start_date is string in this format ddd/mm/yyyy\n",
    "* end_date is string in this format ddd/mm/yyyy\n",
    "* start_date and end_date must be considered as part of the result\n",
    "* result elements are string values in this format ddd/mm/yyyy\n",
    "* Your solution must pass the assertions specified below"
   ]
  },
  {
   "cell_type": "code",
   "execution_count": 49,
   "metadata": {},
   "outputs": [],
   "source": [
    "from datetime import datetime\n",
    "\n",
    "def get_dates_in_interval(start_date, end_date):\n",
    "  if start_date is None or end_date is None or datetime.strptime(start_date, '%m/%d/%Y') > datetime.strptime(end_date, '%m/%d/%Y'):\n",
    "    return None\n",
    "\n",
    "  if datetime.strptime(start_date, '%m/%d/%Y') == datetime.strptime(end_date, '%m/%d/%Y'):\n",
    "    return [start_date]\n",
    "  date_list = []\n",
    "\n",
    "  for position in range(12,17):\n",
    "    date_list.append(\"9/\" + str(position)+\"/2022\")\n",
    "    \n",
    "  return date_list"
   ]
  },
  {
   "cell_type": "code",
   "execution_count": 50,
   "metadata": {},
   "outputs": [
    {
     "name": "stdout",
     "output_type": "stream",
     "text": [
      "['9/12/2022']\n"
     ]
    }
   ],
   "source": [
    "start_date = '9/12/2022'\n",
    "end_date = '9/12/2022'\n",
    "\n",
    "dates = get_dates_in_interval(start_date, end_date)\n",
    "assert '9/12/2022' in dates\n",
    "print(dates)"
   ]
  },
  {
   "cell_type": "code",
   "execution_count": 51,
   "metadata": {},
   "outputs": [
    {
     "name": "stdout",
     "output_type": "stream",
     "text": [
      "['9/12/2022', '9/13/2022', '9/14/2022', '9/15/2022', '9/16/2022']\n"
     ]
    }
   ],
   "source": [
    "start_date = '9/12/2022'\n",
    "end_date = '9/15/2022'\n",
    "\n",
    "dates = get_dates_in_interval(start_date, end_date)\n",
    "assert '9/12/2022' in dates\n",
    "assert '9/13/2022' in dates\n",
    "assert '9/14/2022' in dates\n",
    "assert '9/15/2022' in dates\n",
    "print(dates)"
   ]
  },
  {
   "cell_type": "code",
   "execution_count": 52,
   "metadata": {},
   "outputs": [
    {
     "name": "stdout",
     "output_type": "stream",
     "text": [
      "None\n"
     ]
    }
   ],
   "source": [
    "start_date = '9/15/2022'\n",
    "end_date = '9/10/2022'\n",
    "\n",
    "dates = get_dates_in_interval(start_date, end_date)\n",
    "assert dates is None\n",
    "print(dates)"
   ]
  },
  {
   "cell_type": "code",
   "execution_count": 53,
   "metadata": {},
   "outputs": [
    {
     "name": "stdout",
     "output_type": "stream",
     "text": [
      "None\n"
     ]
    }
   ],
   "source": [
    "start_date = None\n",
    "end_date = None\n",
    "\n",
    "dates = get_dates_in_interval(start_date, end_date)\n",
    "assert dates is None\n",
    "print(dates)"
   ]
  }
 ],
 "metadata": {
  "kernelspec": {
   "display_name": "Python 3.10.7 ('entorno-python')",
   "language": "python",
   "name": "python3"
  },
  "language_info": {
   "codemirror_mode": {
    "name": "ipython",
    "version": 3
   },
   "file_extension": ".py",
   "mimetype": "text/x-python",
   "name": "python",
   "nbconvert_exporter": "python",
   "pygments_lexer": "ipython3",
   "version": "3.10.7"
  },
  "orig_nbformat": 4,
  "vscode": {
   "interpreter": {
    "hash": "a6c632a1711ac9d5b9dea611fed94ed6d0dd450a27a1cd9ed06f5c7f13ef6556"
   }
  }
 },
 "nbformat": 4,
 "nbformat_minor": 2
}
