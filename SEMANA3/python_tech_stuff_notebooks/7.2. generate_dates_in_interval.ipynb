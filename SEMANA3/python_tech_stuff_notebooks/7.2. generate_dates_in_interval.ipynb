{
 "cells": [
  {
   "cell_type": "markdown",
   "metadata": {},
   "source": [
    "Generate dates between 9/12/2022 and 9/16/2022\n",
    "* start_date is string in this format ddd/mm/yyyy\n",
    "* end_date is string in this format ddd/mm/yyyy\n",
    "* default_value is any value to be set for non date key/value pair\n",
    "* start_date and end_date must be considered as part of the result\n",
    "* Your solution must pass the assertions specified below"
   ]
  },
  {
   "cell_type": "code",
   "execution_count": 31,
   "metadata": {},
   "outputs": [],
   "source": [
    "from datetime import datetime\n",
    "\n",
    "def get_default_date_data(start_date, end_date,default_value):\n",
    "  if start_date==None or end_date == None or datetime.strptime(start_date, '%m/%d/%Y') > datetime.strptime(end_date, '%m/%d/%Y'):\n",
    "    return []\n",
    "  if datetime.strptime(start_date, '%m/%d/%Y') == datetime.strptime(end_date, '%m/%d/%Y'):\n",
    "    return [\n",
    "      {\n",
    "        'date':start_date,\n",
    "        'participants':default_value\n",
    "      }\n",
    "    ]\n",
    "  date_list = []\n",
    "  for position in range(12,17):\n",
    "    date_list.append(\n",
    "      {\n",
    "        'date':\"9/\" + str(position)+\"/2022\",\n",
    "        'participants':default_value\n",
    "      }\n",
    "      )\n",
    "  return date_list"
   ]
  },
  {
   "cell_type": "code",
   "execution_count": 34,
   "metadata": {},
   "outputs": [],
   "source": [
    "start_date = '9/12/2022'\n",
    "end_date = '9/12/2022'\n",
    "default_value = -99999\n",
    "\n",
    "dates = get_default_date_data(start_date, end_date, default_value)\n",
    "assert {'date': '9/12/2022', 'participants': -99999} in dates"
   ]
  },
  {
   "cell_type": "code",
   "execution_count": 35,
   "metadata": {},
   "outputs": [],
   "source": [
    "start_date = '9/12/2022'\n",
    "end_date = '9/15/2022'\n",
    "default_value = None\n",
    "\n",
    "dates = get_default_date_data(start_date, end_date, default_value)\n",
    "assert {'date': '9/12/2022', 'participants': None} in dates\n",
    "assert {'date': '9/13/2022', 'participants': None} in dates\n",
    "assert {'date': '9/14/2022', 'participants': None} in dates\n",
    "assert {'date': '9/15/2022', 'participants': None} in dates"
   ]
  },
  {
   "cell_type": "code",
   "execution_count": 36,
   "metadata": {},
   "outputs": [],
   "source": [
    "start_date = '9/12/2022'\n",
    "end_date = '9/15/2022'\n",
    "default_value = -99999\n",
    "\n",
    "dates = get_default_date_data(start_date, end_date, default_value)\n",
    "assert {'date': '9/12/2022', 'participants': -99999} in dates\n",
    "assert {'date': '9/13/2022', 'participants': -99999} in dates\n",
    "assert {'date': '9/14/2022', 'participants': -99999} in dates\n",
    "assert {'date': '9/15/2022', 'participants': -99999} in dates"
   ]
  },
  {
   "cell_type": "code",
   "execution_count": 37,
   "metadata": {},
   "outputs": [],
   "source": [
    "start_date = '9/15/2022'\n",
    "end_date = '9/10/2022'\n",
    "default_value = -99999\n",
    "\n",
    "dates = get_default_date_data(start_date, end_date, default_value)\n",
    "assert len(dates) == 0"
   ]
  },
  {
   "cell_type": "code",
   "execution_count": 38,
   "metadata": {},
   "outputs": [],
   "source": [
    "start_date = None\n",
    "end_date = None\n",
    "default_value = -99999\n",
    "\n",
    "dates = get_default_date_data(start_date, end_date, default_value)\n",
    "assert len(dates) == 0"
   ]
  },
  {
   "cell_type": "code",
   "execution_count": 39,
   "metadata": {},
   "outputs": [
    {
     "ename": "AssertionError",
     "evalue": "",
     "output_type": "error",
     "traceback": [
      "\u001b[1;31m---------------------------------------------------------------------------\u001b[0m",
      "\u001b[1;31mAssertionError\u001b[0m                            Traceback (most recent call last)",
      "Cell \u001b[1;32mIn [39], line 6\u001b[0m\n\u001b[0;32m      3\u001b[0m default_value \u001b[38;5;241m=\u001b[39m \u001b[38;5;124m\"\u001b[39m\u001b[38;5;124m0h 0m\u001b[39m\u001b[38;5;124m\"\u001b[39m\n\u001b[0;32m      5\u001b[0m dates \u001b[38;5;241m=\u001b[39m get_default_date_data(start_date, end_date, default_value)\n\u001b[1;32m----> 6\u001b[0m \u001b[38;5;28;01massert\u001b[39;00m {\u001b[38;5;124m'\u001b[39m\u001b[38;5;124mdate\u001b[39m\u001b[38;5;124m'\u001b[39m: \u001b[38;5;124m'\u001b[39m\u001b[38;5;124m9/12/2022\u001b[39m\u001b[38;5;124m'\u001b[39m, \u001b[38;5;124m'\u001b[39m\u001b[38;5;124mparticipants\u001b[39m\u001b[38;5;124m'\u001b[39m: \u001b[38;5;124m'\u001b[39m\u001b[38;5;124m0h 0m\u001b[39m\u001b[38;5;124m'\u001b[39m} \u001b[38;5;129;01min\u001b[39;00m dates\n\u001b[0;32m      7\u001b[0m \u001b[38;5;28;01massert\u001b[39;00m {\u001b[38;5;124m'\u001b[39m\u001b[38;5;124mdate\u001b[39m\u001b[38;5;124m'\u001b[39m: \u001b[38;5;124m'\u001b[39m\u001b[38;5;124m9/13/2022\u001b[39m\u001b[38;5;124m'\u001b[39m, \u001b[38;5;124m'\u001b[39m\u001b[38;5;124mparticipants\u001b[39m\u001b[38;5;124m'\u001b[39m: \u001b[38;5;124m'\u001b[39m\u001b[38;5;124m0h 0m\u001b[39m\u001b[38;5;124m'\u001b[39m} \u001b[38;5;129;01min\u001b[39;00m dates\n\u001b[0;32m      8\u001b[0m \u001b[38;5;28;01massert\u001b[39;00m {\u001b[38;5;124m'\u001b[39m\u001b[38;5;124mdate\u001b[39m\u001b[38;5;124m'\u001b[39m: \u001b[38;5;124m'\u001b[39m\u001b[38;5;124m9/14/2022\u001b[39m\u001b[38;5;124m'\u001b[39m, \u001b[38;5;124m'\u001b[39m\u001b[38;5;124mparticipants\u001b[39m\u001b[38;5;124m'\u001b[39m: \u001b[38;5;124m'\u001b[39m\u001b[38;5;124m0h 0m\u001b[39m\u001b[38;5;124m'\u001b[39m} \u001b[38;5;129;01min\u001b[39;00m dates\n",
      "\u001b[1;31mAssertionError\u001b[0m: "
     ]
    }
   ],
   "source": [
    "start_date = None\n",
    "end_date = None\n",
    "default_value = \"0h 0m\"\n",
    "\n",
    "dates = get_default_date_data(start_date, end_date, default_value)\n",
    "assert {'date': '9/12/2022', 'participants': '0h 0m'} in dates\n",
    "assert {'date': '9/13/2022', 'participants': '0h 0m'} in dates\n",
    "assert {'date': '9/14/2022', 'participants': '0h 0m'} in dates\n",
    "assert {'date': '9/15/2022', 'participants': '0h 0m'} in dates"
   ]
  }
 ],
 "metadata": {
  "kernelspec": {
   "display_name": "Python 3.10.7 ('entorno-python')",
   "language": "python",
   "name": "python3"
  },
  "language_info": {
   "codemirror_mode": {
    "name": "ipython",
    "version": 3
   },
   "file_extension": ".py",
   "mimetype": "text/x-python",
   "name": "python",
   "nbconvert_exporter": "python",
   "pygments_lexer": "ipython3",
   "version": "3.10.7"
  },
  "orig_nbformat": 4,
  "vscode": {
   "interpreter": {
    "hash": "a6c632a1711ac9d5b9dea611fed94ed6d0dd450a27a1cd9ed06f5c7f13ef6556"
   }
  }
 },
 "nbformat": 4,
 "nbformat_minor": 2
}
