{
 "cells": [
  {
   "cell_type": "markdown",
   "metadata": {},
   "source": [
    "**Problem**\n",
    "\n",
    "Read data stored in files under **/path to/teams_attendance_app/data**\n",
    "\n",
    "\n",
    "- expect 0..n files in with csv extension\n",
    "- expect sub-directories\n",
    "\n",
    "How do I list files under folder/sub-directory\n",
    "then \n",
    "how do I open, read and load csv data in-memory"
   ]
  },
  {
   "cell_type": "code",
   "execution_count": null,
   "metadata": {},
   "outputs": [],
   "source": [
    "# List all \"files\" with csv extension inside data OR attendance_report directory\n",
    "\n",
    "# dir_path =  '/Users/mariamarquina/Desktop/notebooks/trainer.1000/week3_day5/teams_attendance_app/data'\n",
    "# files = [\"f\"] # get_files_in_path(dir_path, 'csv')\n",
    "# assert len(files) > 0 and len([ file for file in files if file.endswith('csv')]) == len(files), \"Expected non empty list containing file paths ending in csv\"\n"
   ]
  },
  {
   "cell_type": "code",
   "execution_count": null,
   "metadata": {},
   "outputs": [],
   "source": [
    "DIR_PATH =  '/Users/mariamarquina/Desktop/notebooks/trainer.1000/week3_day5/teams_attendance_app/data'"
   ]
  },
  {
   "cell_type": "code",
   "execution_count": null,
   "metadata": {},
   "outputs": [],
   "source": [
    "\n",
    "import os\n",
    "dirs =  os.listdir(DIR_PATH)\n",
    "print(dirs)\n",
    "\n",
    "# Too much logic to implement: is the str file or dir??"
   ]
  },
  {
   "cell_type": "code",
   "execution_count": null,
   "metadata": {},
   "outputs": [],
   "source": [
    "import os\n",
    "dirs =  os.listdir(DIR_PATH)\n",
    "output = []\n",
    "\n",
    "files = [d for d in dirs if d.endswith('csv')]\n",
    "\n",
    "## todo: recursive logic if folder is /path/subir/subdir\n",
    "\n",
    "for d in dirs:\n",
    "    if d.endswith('csv'):\n",
    "        output.append(d)\n",
    "\n"
   ]
  },
  {
   "cell_type": "code",
   "execution_count": null,
   "metadata": {},
   "outputs": [],
   "source": [
    "output = []\n",
    "for root, dirs, files  in os.walk(DIR_PATH):\n",
    "    files_full_name = [ os.path.join(root, f) for f in files ]\n",
    "    output.extend(files_full_name)     # output = output + files_full_name\n",
    "\n",
    "print(output)"
   ]
  },
  {
   "cell_type": "code",
   "execution_count": null,
   "metadata": {},
   "outputs": [],
   "source": [
    "def list_files(path, sufix='csv'):\n",
    "    output = []\n",
    "    for root, dirs, files  in os.walk(DIR_PATH):\n",
    "        files_full_name = [ os.path.join(root, f) for f in files if f.endswith(sufix) ]\n",
    "        output.extend(files_full_name)\n",
    "    return output\n",
    "\n",
    "# return list(set(output))\n",
    "# set => {value, value1, value2....etc}\n",
    "# list => []\n",
    "# tuple => ()\n",
    "# dictionary => {key: value, key1: value1, keyn:valuen}"
   ]
  },
  {
   "cell_type": "code",
   "execution_count": null,
   "metadata": {},
   "outputs": [],
   "source": [
    "file_paths = list_files(DIR_PATH)\n",
    "#  print(file_paths)\n",
    "# file_paths = [ f for f in file_paths if f.endswith('csv')]\n",
    "print(file_paths)\n"
   ]
  },
  {
   "cell_type": "markdown",
   "metadata": {},
   "source": [
    "Open, read and load csv data in-memory"
   ]
  },
  {
   "cell_type": "code",
   "execution_count": null,
   "metadata": {},
   "outputs": [],
   "source": [
    "# open -> csv es un txt file with separators\n",
    "# csv (leer y escribir csv)\n",
    "\n",
    "## Later!!\n",
    "# pandas (analytics + dataframes)\n",
    "# numpy (analytics + dataframes)\n",
    "\n",
    "## Load data in-memory => how large the file data is and how large the memory footprint looks like in memory"
   ]
  },
  {
   "cell_type": "code",
   "execution_count": null,
   "metadata": {},
   "outputs": [],
   "source": [
    "\"Full Name\" not in \"full name maria xxxx\""
   ]
  },
  {
   "cell_type": "code",
   "execution_count": null,
   "metadata": {},
   "outputs": [],
   "source": [
    "## file_paths = list_files(DIR_PATH)\n",
    "\n",
    "## Do I need to open/read all the files? -> Yes\n",
    "results  = {}\n",
    "for path in list_files(DIR_PATH):\n",
    "    cnt = 0\n",
    "    with open(path, 'r', encoding='UTF-16') as file:\n",
    "        ## read line by line while not empty line\n",
    "        line = None\n",
    "        while True:\n",
    "            line = file.readline()\n",
    "            # search for Total Number of Participants\n",
    "            if \"Total Number of Participants\" in line:\n",
    "                total_number_participants  = line.split('\\t')[1]\n",
    "                print(\"Total Number of Participants\", total_number_participants)\n",
    "\n",
    "            cnt += 1\n",
    "            if \"Full Name\" in line:\n",
    "                print(cnt)\n",
    "                break\n"
   ]
  },
  {
   "cell_type": "code",
   "execution_count": null,
   "metadata": {},
   "outputs": [],
   "source": [
    "results  = {}\n",
    "for path in list_files(DIR_PATH):\n",
    "    cnt = 0\n",
    "    with open(path, 'r', encoding='UTF-16') as file:\n",
    "        lines = file.readlines() \n",
    "        for line in lines:\n",
    "            line = file.readline()\n",
    "            # search for Total Number of Participants\n",
    "            if \"Total Number of Participants\" in line:\n",
    "                total_number_participants  = line.split('\\t')[1]\n",
    "                print(\"Total Number of Participants\", total_number_participants)\n",
    "\n",
    "            cnt += 1\n",
    "            if \"Full Name\" in line:\n",
    "                print(cnt)\n",
    "                break"
   ]
  },
  {
   "cell_type": "code",
   "execution_count": null,
   "metadata": {},
   "outputs": [],
   "source": [
    "def process_file_data(file):\n",
    "    obj = {}\n",
    "    while True: # TODO: refactor, this is error prone if there's no exit contidion\n",
    "        line = file.readline()\n",
    "        if \"Meeting Title\" in line: # regex\n",
    "            meeting_title  = line.strip('\\n').split('\\t')[1] # split = tokenize\n",
    "            obj['meeting_title']=  meeting_title\n",
    "\n",
    "        if \"Total Number of Participants\" in line:\n",
    "            total_number_participants  = line.strip('\\n').split('\\t')[1]\n",
    "            total_number_participants =  int(total_number_participants) if total_number_participants.isdigit() else -99999\n",
    "\n",
    "            obj['total_number_participants']=  total_number_participants\n",
    "\n",
    "        # TODO: refactor\n",
    "        if \"Full Name\" in line:\n",
    "            break\n",
    "    return obj\n"
   ]
  },
  {
   "cell_type": "code",
   "execution_count": null,
   "metadata": {},
   "outputs": [],
   "source": [
    "meetings = []\n",
    "    \n",
    "for path in list_files(DIR_PATH):\n",
    "    with open(path, 'r', encoding='UTF-16') as file:\n",
    "        meeting = process_file_data(file)\n",
    "        meetings.append(meeting)\n",
    "\n",
    "print(meetings)"
   ]
  },
  {
   "cell_type": "code",
   "execution_count": null,
   "metadata": {},
   "outputs": [],
   "source": [
    "## refactor 1 \n",
    "\n",
    "\n",
    "def process_line(line, search_token):\n",
    "    if search_token not in line:\n",
    "        return None\n",
    "    return line.strip('\\n').split('\\t')[1]\n",
    "\n",
    "## there is an issue from starting at line 14\n",
    "## each line is passed into process_line and that causes process_line to return None \n",
    "## then line 15 will evaluate to ''\n",
    "def process_file_data(file):\n",
    "    obj = {}\n",
    "    while True: # TODO: refactor, this is error prone if there's no exit contidion\n",
    "        line = file.readline()\n",
    "        meeting_title = process_line(line, \"Meeting Title\") or ''\n",
    "        obj['meeting_title']=  meeting_title\n",
    "\n",
    "        total_number_participants  = process_line(line, \"Total Number of Participants\") or -99999\n",
    "        total_number_participants =  int(total_number_participants)\n",
    "        obj['total_number_participants']=  total_number_participants\n",
    "\n",
    "        if \"Full Name\" in line:\n",
    "            break\n",
    "    return obj"
   ]
  },
  {
   "cell_type": "code",
   "execution_count": null,
   "metadata": {},
   "outputs": [],
   "source": [
    "meetings = []\n",
    "    \n",
    "for path in list_files(DIR_PATH):\n",
    "    with open(path, 'r', encoding='UTF-16') as file:\n",
    "        meeting = process_file_data(file)\n",
    "        meetings.append(meeting)\n",
    "\n",
    "print(meetings)"
   ]
  },
  {
   "cell_type": "code",
   "execution_count": null,
   "metadata": {},
   "outputs": [],
   "source": [
    "\"xxxx\" or ''"
   ]
  },
  {
   "cell_type": "code",
   "execution_count": 138,
   "metadata": {},
   "outputs": [],
   "source": [
    "# refactor 3\n",
    "\n",
    "MEETING_TITLE = \"Meeting Title\"\n",
    "TOTAL_NUMBER_PARTICIPANTS = \"Total Number of Participants\"\n",
    "FULL_NAME = \"Full Name\"\n",
    "\n",
    "def get_token(line, search_token):\n",
    "    if search_token not in line:\n",
    "        return None\n",
    "    return line.strip('\\n').split('\\t')[1]\n",
    "\n",
    "\n",
    "def get_meeting_title(line):\n",
    "    return get_token(line, MEETING_TITLE) or ''\n",
    "\n",
    "\n",
    "def get_total_number_participants(line):\n",
    "    total_number_participants  = get_token(line, TOTAL_NUMBER_PARTICIPANTS) or -99999\n",
    "    return int(total_number_participants)\n",
    "\n",
    "\n",
    "# obj is \n",
    "# README: https://realpython.com/python-pass-by-reference/\n",
    "def process_line(line, obj):\n",
    "    \"\"\"\n",
    "    A line can contain  \"Meeting Title\" or \"Total Number of Participants\",\n",
    "    but you cannot have both in the same line\n",
    "    In this line, if we find \"Meeting Title\" then we should not ask for \"Total Number of Participants\"\n",
    "    \"\"\"\n",
    "\n",
    "    if MEETING_TITLE in line:\n",
    "        obj['meeting_title'] =  get_meeting_title(line)\n",
    "    elif TOTAL_NUMBER_PARTICIPANTS in line:\n",
    "        obj['total_number_participants'] =  get_total_number_participants(line)\n",
    "\n",
    "\n",
    "def process_file_data(file):\n",
    "    obj = {}\n",
    "    ## README: https://docs.python.org/3/whatsnew/3.8.html#assignment-expressions\n",
    "    while line := file.readline():\n",
    "        process_line(line, obj)\n",
    "    return obj"
   ]
  },
  {
   "cell_type": "code",
   "execution_count": 139,
   "metadata": {},
   "outputs": [
    {
     "name": "stdout",
     "output_type": "stream",
     "text": [
      "[{'total_number_participants': 9, 'meeting_title': 'Python training'}, {'total_number_participants': 9, 'meeting_title': 'Python training'}, {'total_number_participants': 9, 'meeting_title': 'Python training'}, {'total_number_participants': 22, 'meeting_title': 'General'}, {'total_number_participants': 9, 'meeting_title': 'Python training'}, {'total_number_participants': 9, 'meeting_title': 'Python training'}, {'total_number_participants': 22, 'meeting_title': 'General'}, {'total_number_participants': 10, 'meeting_title': 'Training Branches: Database Basics on TSQL'}]\n"
     ]
    }
   ],
   "source": [
    "meetings = []\n",
    "for path in list_files(DIR_PATH):\n",
    "    with open(path, 'r', encoding='UTF-16') as file:\n",
    "        meeting = process_file_data(file)\n",
    "        meetings.append(meeting)\n",
    "\n",
    "print(meetings)"
   ]
  }
 ],
 "metadata": {
  "kernelspec": {
   "display_name": "Python 3.10.7 ('entorno-python')",
   "language": "python",
   "name": "python3"
  },
  "language_info": {
   "codemirror_mode": {
    "name": "ipython",
    "version": 3
   },
   "file_extension": ".py",
   "mimetype": "text/x-python",
   "name": "python",
   "nbconvert_exporter": "python",
   "pygments_lexer": "ipython3",
   "version": "3.10.7"
  },
  "orig_nbformat": 4,
  "vscode": {
   "interpreter": {
    "hash": "a6c632a1711ac9d5b9dea611fed94ed6d0dd450a27a1cd9ed06f5c7f13ef6556"
   }
  }
 },
 "nbformat": 4,
 "nbformat_minor": 2
}
