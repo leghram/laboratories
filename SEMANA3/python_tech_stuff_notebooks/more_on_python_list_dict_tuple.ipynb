{
 "cells": [
  {
   "cell_type": "markdown",
   "metadata": {},
   "source": [
    "**trying out things you learned in more details + new things**"
   ]
  },
  {
   "cell_type": "code",
   "execution_count": null,
   "metadata": {},
   "outputs": [],
   "source": [
    "# data structures\n",
    "## List\n",
    "## Dictionaries\n",
    "## Tuples\n",
    "## Set"
   ]
  },
  {
   "cell_type": "code",
   "execution_count": null,
   "metadata": {},
   "outputs": [],
   "source": [
    "students = ['aaa', 'bbcbdb', 'xnxn', 'xxx', 123, True, [1, 2, 3], {\"key1\": 1, \"key2\": 2}]\n",
    "type(students)\n",
    "\n",
    "\n",
    "students = None\n",
    "type(students)\n",
    "\n",
    "dict = {\"key1\": 1, \"key2\": 2}\n",
    "## most of the Python object are mutable objects\n",
    "students = dict\n",
    "\n",
    "\n",
    "len(students)\n",
    "\n",
    "## Add elements\n",
    "students.append(\"string \")\n",
    "\n",
    "## access elements by index -> [0, len[\n",
    "## read access to element\n",
    "## update element\n"
   ]
  },
  {
   "cell_type": "code",
   "execution_count": null,
   "metadata": {},
   "outputs": [],
   "source": [
    "students = ['aaa', 'bbcbdb', 'xnxn', 'xxx', 123, True, [1, 2, 3], {\"key1\": 1, \"key2\": 2}]\n",
    "# students[100] = 1000\n",
    "\n",
    "## append\n",
    "## insert\n",
    "print(students, len(students))\n",
    "students.insert(100, 10000)\n",
    "print(students, len(students))\n",
    "students.insert(200, 20000)\n",
    "print(students, len(students))\n",
    "\n",
    "students.insert(0, 20000)\n",
    "print(students, len(students))"
   ]
  },
  {
   "cell_type": "code",
   "execution_count": null,
   "metadata": {},
   "outputs": [],
   "source": [
    "## find element True in list student\n",
    "students = ['aaa', 'bbcbdb', 'xnxn', 'xxx', 123, True, [1, 2, 3], {\"key1\": 1, \"key2\": 2}]\n",
    "\n",
    "search  = True\n",
    "for element in students:\n",
    "    if element == search:\n",
    "        print('I found the search object')\n",
    "        break"
   ]
  },
  {
   "cell_type": "code",
   "execution_count": null,
   "metadata": {},
   "outputs": [],
   "source": [
    "# is element True present in the List?\n",
    "\n",
    "search  = True\n",
    "students = ['aaa', 'bbcbdb', 'xnxn', 'xxx', 123, True, [1, 2, 3], {\"key1\": 1, \"key2\": 2}]\n",
    "\n",
    "result = search in students\n",
    "print(result)\n",
    "\n",
    "result = \"buscar elemento\" in students\n",
    "print(result)"
   ]
  },
  {
   "cell_type": "code",
   "execution_count": null,
   "metadata": {},
   "outputs": [],
   "source": [
    "# what is the index (position) where \"xxx\" was found?\n",
    "position =  students.index('xxx')\n",
    "print(position)\n",
    "\n",
    "position =  students.index('XXX') # index is not error safe!\n",
    "print(position)"
   ]
  },
  {
   "cell_type": "code",
   "execution_count": null,
   "metadata": {},
   "outputs": [],
   "source": [
    "# how many times I can find \"xxx\" in this list??\n",
    "search = \"xxx\"\n",
    "students = ['aaa', 'bbcbdb', 'xnxn', 'xxx', 123, True, [1, 2, 3], {\"key1\": 1, \"key2\": 2}, 'xxx']\n",
    "# search in students  \n",
    "\n",
    "## list is iterable (I can access elements without index using for)\n",
    "count = 0\n",
    "for element in students:\n",
    "    if element == search:\n",
    "        count += 1\n",
    "print(count)"
   ]
  },
  {
   "cell_type": "code",
   "execution_count": null,
   "metadata": {},
   "outputs": [],
   "source": [
    "print(students.count(search))"
   ]
  },
  {
   "cell_type": "code",
   "execution_count": null,
   "metadata": {},
   "outputs": [],
   "source": [
    "# order elements in a list \n",
    "students = ['aaa', 'bbcbdb', 'xnxn', 'xxx', 123, True, [1, 2, 3], {\"key1\": 1, \"key2\": 2}, 'xxx']\n",
    "students.sort() # TypeError: '<' not supported between instances of 'int' and 'str'"
   ]
  },
  {
   "cell_type": "code",
   "execution_count": null,
   "metadata": {},
   "outputs": [],
   "source": [
    "## List comprehensions\n",
    "\n",
    "#  generate numbers from 1 to 10 and print even numbers\n",
    "\n",
    "print(range(0, 10, 1))\n",
    "print(range(10))\n",
    "\n",
    "# range is a sequence\n",
    "# is lazy evaluated \n",
    "## evaluate requires iterate with for OR freeze range as List (for example)\n",
    "print(list(range(10)))\n",
    "\n",
    "for i in range(10):\n",
    "    print(i)\n"
   ]
  },
  {
   "cell_type": "code",
   "execution_count": null,
   "metadata": {},
   "outputs": [],
   "source": [
    "even_numbers =  []\n",
    "for i in range(11):\n",
    "    if i % 2 == 0:\n",
    "        even_numbers.append(i)\n",
    "print(even_numbers)"
   ]
  },
  {
   "cell_type": "code",
   "execution_count": null,
   "metadata": {},
   "outputs": [],
   "source": [
    "## List comprehensions\n",
    " # what I want: A list\n",
    " # [ inside express where and how to generate what you want ] \n",
    " # 1) data 2) filter y output\n",
    "\n",
    "# for .... -> genera cada uno de los numeros\n",
    "# number for --> la salida de la expresion\n",
    "# if --> filtro algunos datos de mi interes\n",
    "even_numbers = [ number for number in range(11) if number % 2 == 0 ]\n",
    "print(even_numbers)"
   ]
  },
  {
   "cell_type": "code",
   "execution_count": null,
   "metadata": {},
   "outputs": [],
   "source": [
    "magic_number = 2\n",
    "even_numbers = [ n * magic_number for n in range(11) if n % 2 == 0 ]\n",
    "print(even_numbers)"
   ]
  },
  {
   "cell_type": "code",
   "execution_count": null,
   "metadata": {},
   "outputs": [],
   "source": [
    "## print 1M of asteriks\n",
    "\n",
    "# Para cada numero referenciado por i en el range(...)\n",
    "# for i in range(1000001):\n",
    "#     print(i)\n",
    "\n",
    "[ print('*'*i) for i  in range(1001) ]"
   ]
  },
  {
   "cell_type": "code",
   "execution_count": null,
   "metadata": {},
   "outputs": [],
   "source": [
    "students = ['aaa', 'bbcbdb', 'xnxn', 'xxx', 123, True, [1, 2, 3], {\"key1\": 1, \"key2\": 2}, 'xxx']\n",
    "print(students)\n",
    "\n",
    "# deletes value (first ocurrence)\n",
    "students.remove('xxx')\n",
    "print(students)\n",
    "\n",
    "# del deletes element by index\n",
    "del students[0]\n",
    "\n",
    "print()\n",
    "print(students)\n",
    "students.pop() # LIFO \n",
    "print(students)\n",
    "\n",
    "print()\n",
    "print(students)\n",
    "students.pop(2)\n",
    "print(students)\n"
   ]
  },
  {
   "cell_type": "code",
   "execution_count": null,
   "metadata": {},
   "outputs": [],
   "source": [
    "## dedup data (de-duplicar o remove duplicados)\n",
    "students = ['aaa', 'bbcbdb', 'xnxn', 'xxx' 'xxx']\n",
    "dedup_list = set(students) # all elements must be of the same datatype\n",
    "print(dedup_list)\n",
    "dedup_list = list(set(students))\n",
    "print(dedup_list)"
   ]
  },
  {
   "cell_type": "code",
   "execution_count": null,
   "metadata": {},
   "outputs": [],
   "source": [
    "\n",
    "\n",
    "grades = { \n",
    "    \"1\": \"aa\" , \n",
    "    \"2\": [1, 2, 3], \n",
    "    \"3\": {}\n",
    "}\n",
    "\n",
    "len(grades)\n",
    "\n",
    "for element in grades.items():\n",
    "    print(element, type(element))\n",
    "    key, value = element\n",
    "    print(element[0])\n",
    "    element[0] = \"123\"\n",
    "\n",
    "    # print()\n",
    "    # print(key, type(key))\n",
    "    # print(value, type(value))\n",
    "\n",
    "for key, value in grades.items():\n",
    "    print(key, value)\n",
    "\n",
    "\n",
    "\n"
   ]
  }
 ],
 "metadata": {
  "kernelspec": {
   "display_name": "Python 3.9.14 64-bit",
   "language": "python",
   "name": "python3"
  },
  "language_info": {
   "codemirror_mode": {
    "name": "ipython",
    "version": 3
   },
   "file_extension": ".py",
   "mimetype": "text/x-python",
   "name": "python",
   "nbconvert_exporter": "python",
   "pygments_lexer": "ipython3",
   "version": "3.9.14"
  },
  "orig_nbformat": 4,
  "vscode": {
   "interpreter": {
    "hash": "397704579725e15f5c7cb49fe5f0341eb7531c82d19f2c29d197e8b64ab5776b"
   }
  }
 },
 "nbformat": 4,
 "nbformat_minor": 2
}
