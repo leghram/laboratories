{
 "cells": [
  {
   "cell_type": "markdown",
   "metadata": {},
   "source": [
    "**Print a list of questions in this format**\n",
    "\n",
    "\n",
    "1. What is the number of Partipants attending {meeting_name} Meeting per date, date filter between {start_date} and {end_date}\n",
    "2. What is the duration of {meeting_name} Meeting per date, date filter between {start_date} and {end_date}"
   ]
  },
  {
   "cell_type": "code",
   "execution_count": null,
   "metadata": {},
   "outputs": [],
   "source": [
    "questions = [\n",
    "    \"What is the number of Partipants attending {meeting_name} Meeting per date, date filter between {start_date} and {end_date}\",\n",
    "    \"What is the duration of {meeting_name} Meeting per date, date filter between {start_date} and {end_date}\"\n",
    "    ]\n",
    "index = 1\n",
    "for question in questions:\n",
    "    print(index, question)\n",
    "    index += 1"
   ]
  },
  {
   "cell_type": "code",
   "execution_count": null,
   "metadata": {},
   "outputs": [],
   "source": [
    "enumerate_questions = enumerate(questions, 1)\n",
    "print(enumerate_questions, type(enumerate_questions))"
   ]
  },
  {
   "cell_type": "code",
   "execution_count": null,
   "metadata": {},
   "outputs": [],
   "source": [
    "## Given question data in-memory representation, Print a list of questions in this ^^ format\n",
    "## {meeting_name} = placeholder or slot\n",
    "\n",
    "questions = [\n",
    "    \"What is the number of Partipants attending {meeting_name} Meeting per date, date filter between {start_date} and {end_date}\",\n",
    "    \"What is the duration of {meeting_name} Meeting per date, date filter between {start_date} and {end_date}\"\n",
    "    ]\n",
    "\n",
    "def print_questions(questions):\n",
    "    # print(questions[0])\n",
    "    # print(questions[1])\n",
    "    for question in enumerate(questions, 1):\n",
    "        # print(question)\n",
    "        index, value = question\n",
    "        print(index, value, sep=\". \")"
   ]
  },
  {
   "cell_type": "code",
   "execution_count": null,
   "metadata": {},
   "outputs": [],
   "source": [
    "def print_questions(questions):\n",
    "    for index, value in enumerate(questions, 1):\n",
    "        print(index, value, sep=\". \")"
   ]
  },
  {
   "cell_type": "code",
   "execution_count": null,
   "metadata": {},
   "outputs": [],
   "source": [
    "def print_questions(questions):\n",
    "    [  print(index, value, sep=\". \") for index, value in enumerate(questions, 1)]"
   ]
  },
  {
   "cell_type": "code",
   "execution_count": null,
   "metadata": {},
   "outputs": [],
   "source": [
    "print_questions(questions)"
   ]
  },
  {
   "cell_type": "code",
   "execution_count": null,
   "metadata": {},
   "outputs": [],
   "source": [
    "questions = [\n",
    "        \"What is the number of Partipants attending {meeting_name} Meeting per date, date filter between {start_date} and {end_date}\",\n",
    "        \"What is the duration of {meeting_name} Meeting per date, date filter between {start_date} and {end_date}\"\n",
    "    ]\n",
    "print(questions, type(questions))\n",
    "\n",
    "questions = dict(enumerate(questions, 1))\n",
    "print(questions, type(questions))"
   ]
  },
  {
   "cell_type": "code",
   "execution_count": null,
   "metadata": {},
   "outputs": [],
   "source": [
    "## expect questions is a dictionary\n",
    "def print_questions(questions):\n",
    "    [  print(index, value, sep=\". \") for index, value in questions.items()]"
   ]
  },
  {
   "cell_type": "code",
   "execution_count": null,
   "metadata": {},
   "outputs": [],
   "source": [
    "def handle_input_in_questions_menu():\n",
    "    ## get questions from file using read_questions function\n",
    "    questions = [\n",
    "        \"What is the number of Partipants attending {meeting_name} Meeting per date, date filter between {start_date} and {end_date}\",\n",
    "        \"What is the duration of {meeting_name} Meeting per date, date filter between {start_date} and {end_date}\"\n",
    "    ]\n",
    "\n",
    "    # list to dictionary\n",
    "    questions = dict(enumerate(questions, 1))\n",
    "\n",
    "    print()\n",
    "    print_questions(questions)\n",
    "\n",
    "    # while user does not enter a valid question  number or Quit or Q to exit then keep asking, else return\n",
    "    user_input = None\n",
    "    while True:\n",
    "        user_input = input(\"Type a number, or Quit or Q to exit\")\n",
    "\n",
    "        ## break if user chooses to quit\n",
    "        is_valid_question_number =  user_input.isdigit() and int(user_input) in questions.keys()\n",
    "        if user_input in [\"Quit\", \"Q\"] or is_valid_question_number:\n",
    "            break\n",
    "        \n",
    "        ## break if user enters a valid question number\n",
    "        # if user_input == 1 or user_input == 2:\n",
    "        # if user_input in range(1, len(question) + 1):\n",
    "        # if user_input.isdigit() and int(user_input) in questions.keys():\n",
    "        #     break\n",
    "\n",
    "    return user_input\n"
   ]
  },
  {
   "cell_type": "code",
   "execution_count": null,
   "metadata": {},
   "outputs": [],
   "source": [
    "# Present questions menu \n",
    "# Ask user for input -> input()\n",
    "\n",
    "user_input = handle_input_in_questions_menu()\n",
    "assert user_input is not None, \"expected non null value\"\n",
    "assert type(user_input) == str, \"expected str type\"\n",
    "assert user_input.isdigit() and int(user_input) in [1, 2], \"expected value in [1, 2]\""
   ]
  },
  {
   "cell_type": "markdown",
   "metadata": {},
   "source": [
    "**For a selected question's index request required options**\n",
    "\n",
    "For example, if user selected option **1**, then we should request input data in this format\n",
    "\n",
    "1. Type {meeting_name} value, or Quit or Q to exit program\n",
    "2. Type {start_date} value, or Quit or Q to exit program\n",
    "3. Type {end_date} value, or Quit or Q to exit program"
   ]
  },
  {
   "cell_type": "code",
   "execution_count": null,
   "metadata": {},
   "outputs": [],
   "source": [
    "questions_metadata = [\n",
    "    {\n",
    "        \"description\": \"What is the number of Partipants attending {meeting_name} Meeting per date, date filter between {start_date} and {end_date}\",\n",
    "        \"placeholders\": [\n",
    "            {\n",
    "                \"name\": \"meeting_name\",\n",
    "                \"datatype\": \"str\",\n",
    "            },\n",
    "            {\n",
    "                \"name\": \"start_date\",\n",
    "                \"datatype\": \"str\",\n",
    "            },\n",
    "            {\n",
    "                \"name\": \"end_date\",\n",
    "                \"datatype\": \"str\",\n",
    "            }\n",
    "        ]\n",
    "    },\n",
    "    {\n",
    "        \"description\": \"What is the duration of {meeting_name} Meeting per date, date filter between {start_date} and {end_date}\",\n",
    "        \"placeholders\": [\n",
    "            {\n",
    "                \"name\": \"meeting_name\",\n",
    "                \"datatype\": \"str\",\n",
    "            },\n",
    "            {\n",
    "                \"name\": \"start_date\",\n",
    "                \"datatype\": \"str\",\n",
    "            },\n",
    "            {\n",
    "                \"name\": \"end_date\",\n",
    "                \"datatype\": \"str\",\n",
    "            }\n",
    "        ]\n",
    "    }\n",
    "]\n",
    "selected_option = 1\n",
    "\n",
    "## TODO: get question 1 metadata\n",
    "\n",
    "question_metadata = {\n",
    "    \"description\": \"What is the number of Partipants attending {meeting_name} Meeting per date, date filter between {start_date} and {end_date}\",\n",
    "    \"placeholders\": [\n",
    "        {\n",
    "            \"name\": \"meeting_name\",\n",
    "            \"datatype\": \"str\",\n",
    "        },\n",
    "        {\n",
    "            \"name\": \"start_date\",\n",
    "            \"datatype\": \"str\",\n",
    "        },\n",
    "        {\n",
    "            \"name\": \"end_date\",\n",
    "            \"datatype\": \"str\",\n",
    "        }\n",
    "    ]\n",
    "}\n",
    "\n",
    "placeholders = question_metadata.get(\"placeholders\") or []\n",
    "\n",
    "data = {}\n",
    "for index, value in enumerate(placeholders, 1):\n",
    "    name = value.get(\"name\")\n",
    "    user_input = input(f\"Type {name} value, or Quit or Q to exit program\")\n",
    "    ## TODO: validate\n",
    "    data[name] = user_input\n",
    "print(data)\n",
    "\n",
    "\n",
    "\n"
   ]
  },
  {
   "cell_type": "code",
   "execution_count": null,
   "metadata": {},
   "outputs": [],
   "source": [
    "## access key with [] (index operator) is not safe if key does not exist\n",
    "## use get method \n",
    "\n",
    "# aaa = question_metadata[\"aaa\"]\n",
    "aaa = question_metadata.get(\"aaa\")\n",
    "print(aaa, type(aaa))"
   ]
  },
  {
   "cell_type": "code",
   "execution_count": null,
   "metadata": {},
   "outputs": [],
   "source": [
    "question = {\n",
    "    \"description\": \"What is the duration of {meeting_name} Meeting per date, date filter between {start_date} and {end_date}\",\n",
    "    \"data\": {\n",
    "        \"meeting_name\": \"General\",\n",
    "        \"start_date\": \"9/10/2022\",\n",
    "        \"end_date\": \"9/16/2022\"\n",
    "    }\n",
    "}\n",
    "\n",
    "meeting_name = (question.get(\"data\") or {}).get(\"meeting_name\")\n",
    "print(meeting_name)\n",
    "\n"
   ]
  },
  {
   "cell_type": "markdown",
   "metadata": {},
   "source": [
    "For question's key/value pairs, get the answer\n",
    "\n",
    "1. Read a file and load it in-memory as a list of lines\n",
    "2. then search based on required criteria"
   ]
  },
  {
   "cell_type": "code",
   "execution_count": null,
   "metadata": {},
   "outputs": [],
   "source": [
    "question = {\n",
    "    \"description\": \"What is the duration of {meeting_name} Meeting per date, date filter between {start_date} and {end_date}\",\n",
    "    \"data\": {\n",
    "        \"meeting_name\": \"General\",\n",
    "        \"start_date\": \"9/10/2022\",\n",
    "        \"end_date\": \"9/16/2022\"\n",
    "    }\n",
    "}"
   ]
  }
 ],
 "metadata": {
  "kernelspec": {
   "display_name": "Python 3.10.7 ('entorno-python')",
   "language": "python",
   "name": "python3"
  },
  "language_info": {
   "codemirror_mode": {
    "name": "ipython",
    "version": 3
   },
   "file_extension": ".py",
   "mimetype": "text/x-python",
   "name": "python",
   "nbconvert_exporter": "python",
   "pygments_lexer": "ipython3",
   "version": "3.10.7"
  },
  "orig_nbformat": 4,
  "vscode": {
   "interpreter": {
    "hash": "a6c632a1711ac9d5b9dea611fed94ed6d0dd450a27a1cd9ed06f5c7f13ef6556"
   }
  }
 },
 "nbformat": 4,
 "nbformat_minor": 2
}
