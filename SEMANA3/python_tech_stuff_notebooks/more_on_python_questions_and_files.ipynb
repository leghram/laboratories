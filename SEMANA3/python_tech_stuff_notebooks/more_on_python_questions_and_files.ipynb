{
 "cells": [
  {
   "cell_type": "markdown",
   "metadata": {},
   "source": [
    "**Print a list of questions in this format**\n",
    "\n",
    "\n",
    "1. What is the number of Partipants attending {meeting_name} Meeting per date, date filter between {start_date} and {end_date}\n",
    "2. What is the duration of {meeting_name} Meeting per date, date filter between {start_date} and {end_date}"
   ]
  },
  {
   "cell_type": "code",
   "execution_count": null,
   "metadata": {},
   "outputs": [],
   "source": [
    "questions = [\n",
    "    \"What is the number of Partipants attending {meeting_name} Meeting per date, date filter between {start_date} and {end_date}\",\n",
    "    \"What is the duration of {meeting_name} Meeting per date, date filter between {start_date} and {end_date}\"\n",
    "    ]\n",
    "index = 1\n",
    "for question in questions:\n",
    "    print(index, question)\n",
    "    index += 1"
   ]
  },
  {
   "cell_type": "code",
   "execution_count": null,
   "metadata": {},
   "outputs": [],
   "source": [
    "enumerate_questions = enumerate(questions, 1)\n",
    "print(enumerate_questions, type(enumerate_questions))"
   ]
  },
  {
   "cell_type": "code",
   "execution_count": null,
   "metadata": {},
   "outputs": [],
   "source": [
    "## Given question data in-memory representation, Print a list of questions in this ^^ format\n",
    "## {meeting_name} = placeholder or slot\n",
    "\n",
    "questions = [\n",
    "    \"What is the number of Partipants attending {meeting_name} Meeting per date, date filter between {start_date} and {end_date}\",\n",
    "    \"What is the duration of {meeting_name} Meeting per date, date filter between {start_date} and {end_date}\"\n",
    "    ]\n",
    "\n",
    "def print_questions(questions):\n",
    "    # print(questions[0])\n",
    "    # print(questions[1])\n",
    "    for question in enumerate(questions, 1):\n",
    "        # print(question)\n",
    "        index, value = question\n",
    "        print(index, value, sep=\". \")"
   ]
  },
  {
   "cell_type": "code",
   "execution_count": null,
   "metadata": {},
   "outputs": [],
   "source": [
    "def print_questions(questions):\n",
    "    for index, value in enumerate(questions, 1):\n",
    "        print(index, value, sep=\". \")"
   ]
  },
  {
   "cell_type": "code",
   "execution_count": null,
   "metadata": {},
   "outputs": [],
   "source": [
    "def print_questions(questions):\n",
    "    [  print(index, value, sep=\". \") for index, value in enumerate(questions, 1)]"
   ]
  },
  {
   "cell_type": "code",
   "execution_count": null,
   "metadata": {},
   "outputs": [],
   "source": [
    "print_questions(questions)"
   ]
  },
  {
   "cell_type": "code",
   "execution_count": null,
   "metadata": {},
   "outputs": [],
   "source": [
    "questions = [\n",
    "        \"What is the number of Partipants attending {meeting_name} Meeting per date, date filter between {start_date} and {end_date}\",\n",
    "        \"What is the duration of {meeting_name} Meeting per date, date filter between {start_date} and {end_date}\"\n",
    "    ]\n",
    "print(questions, type(questions))\n",
    "\n",
    "questions = dict(enumerate(questions, 1))\n",
    "print(questions, type(questions))"
   ]
  },
  {
   "cell_type": "code",
   "execution_count": null,
   "metadata": {},
   "outputs": [],
   "source": [
    "## expect questions is a dictionary\n",
    "def print_questions(questions):\n",
    "    [  print(index, value, sep=\". \") for index, value in questions.items()]"
   ]
  },
  {
   "cell_type": "code",
   "execution_count": null,
   "metadata": {},
   "outputs": [],
   "source": [
    "def handle_input_in_questions_menu():\n",
    "    ## get questions from file using read_questions function\n",
    "    questions = [\n",
    "        \"What is the number of Partipants attending {meeting_name} Meeting per date, date filter between {start_date} and {end_date}\",\n",
    "        \"What is the duration of {meeting_name} Meeting per date, date filter between {start_date} and {end_date}\"\n",
    "    ]\n",
    "\n",
    "    # list to dictionary\n",
    "    questions = dict(enumerate(questions, 1))\n",
    "\n",
    "    print()\n",
    "    print_questions(questions)\n",
    "\n",
    "    # while user does not enter a valid question  number or Quit or Q to exit then keep asking, else return\n",
    "    user_input = None\n",
    "    while True:\n",
    "        user_input = input(\"Type a number, or Quit or Q to exit\")\n",
    "\n",
    "        ## break if user chooses to quit\n",
    "        is_valid_question_number =  user_input.isdigit() and int(user_input) in questions.keys()\n",
    "        if user_input in [\"Quit\", \"Q\"] or is_valid_question_number:\n",
    "            break\n",
    "        \n",
    "        ## break if user enters a valid question number\n",
    "        # if user_input == 1 or user_input == 2:\n",
    "        # if user_input in range(1, len(question) + 1):\n",
    "        # if user_input.isdigit() and int(user_input) in questions.keys():\n",
    "        #     break\n",
    "\n",
    "    return user_input\n"
   ]
  },
  {
   "cell_type": "code",
   "execution_count": null,
   "metadata": {},
   "outputs": [],
   "source": [
    "# Present questions menu \n",
    "# Ask user for input -> input()\n",
    "\n",
    "user_input = handle_input_in_questions_menu()\n",
    "assert user_input is not None, \"expected non null value\"\n",
    "assert type(user_input) == str, \"expected str type\"\n",
    "assert user_input.isdigit() and int(user_input) in [1, 2], \"expected value in [1, 2]\""
   ]
  },
  {
   "cell_type": "markdown",
   "metadata": {},
   "source": [
    "**For a selected question's index request required options**\n",
    "\n",
    "For example, if user selected option **1**, then we should request input data in this format\n",
    "\n",
    "1. Type {meeting_name} value, or Quit or Q to exit program\n",
    "2. Type {start_date} value, or Quit or Q to exit program\n",
    "3. Type {end_date} value, or Quit or Q to exit program"
   ]
  },
  {
   "cell_type": "code",
   "execution_count": null,
   "metadata": {},
   "outputs": [],
   "source": [
    "questions_metadata = [\n",
    "    {\n",
    "        \"description\": \"What is the number of Partipants attending {meeting_name} Meeting per date, date filter between {start_date} and {end_date}\",\n",
    "        \"placeholders\": [\n",
    "            {\n",
    "                \"name\": \"meeting_name\",\n",
    "                \"datatype\": \"str\",\n",
    "            },\n",
    "            {\n",
    "                \"name\": \"start_date\",\n",
    "                \"datatype\": \"str\",\n",
    "            },\n",
    "            {\n",
    "                \"name\": \"end_date\",\n",
    "                \"datatype\": \"str\",\n",
    "            }\n",
    "        ]\n",
    "    },\n",
    "    {\n",
    "        \"description\": \"What is the duration of {meeting_name} Meeting per date, date filter between {start_date} and {end_date}\",\n",
    "        \"placeholders\": [\n",
    "            {\n",
    "                \"name\": \"meeting_name\",\n",
    "                \"datatype\": \"str\",\n",
    "            },\n",
    "            {\n",
    "                \"name\": \"start_date\",\n",
    "                \"datatype\": \"str\",\n",
    "            },\n",
    "            {\n",
    "                \"name\": \"end_date\",\n",
    "                \"datatype\": \"str\",\n",
    "            }\n",
    "        ]\n",
    "    }\n",
    "]\n",
    "selected_option = 1\n",
    "\n",
    "## TODO: get question 1 metadata\n",
    "\n",
    "question_metadata = {\n",
    "    \"description\": \"What is the number of Partipants attending {meeting_name} Meeting per date, date filter between {start_date} and {end_date}\",\n",
    "    \"placeholders\": [\n",
    "        {\n",
    "            \"name\": \"meeting_name\",\n",
    "            \"datatype\": \"str\",\n",
    "        },\n",
    "        {\n",
    "            \"name\": \"start_date\",\n",
    "            \"datatype\": \"str\",\n",
    "        },\n",
    "        {\n",
    "            \"name\": \"end_date\",\n",
    "            \"datatype\": \"str\",\n",
    "        }\n",
    "    ]\n",
    "}\n",
    "\n",
    "placeholders = question_metadata.get(\"placeholders\") or []\n",
    "\n",
    "data = {}\n",
    "for index, value in enumerate(placeholders, 1):\n",
    "    name = value.get(\"name\")\n",
    "    user_input = input(f\"Type {name} value, or Quit or Q to exit program\")\n",
    "    ## TODO: validate\n",
    "    data[name] = user_input\n",
    "print(data)\n",
    "\n",
    "\n",
    "\n"
   ]
  },
  {
   "cell_type": "code",
   "execution_count": null,
   "metadata": {},
   "outputs": [],
   "source": [
    "## access key with [] (index operator) is not safe if key does not exist\n",
    "## use get method \n",
    "\n",
    "# aaa = question_metadata[\"aaa\"]\n",
    "aaa = question_metadata.get(\"aaa\")\n",
    "print(aaa, type(aaa))"
   ]
  },
  {
   "cell_type": "code",
   "execution_count": null,
   "metadata": {},
   "outputs": [],
   "source": [
    "question = {\n",
    "    \"description\": \"What is the duration of {meeting_name} Meeting per date, date filter between {start_date} and {end_date}\",\n",
    "    \"data\": {\n",
    "        \"meeting_name\": \"General\",\n",
    "        \"start_date\": \"9/10/2022\",\n",
    "        \"end_date\": \"9/16/2022\"\n",
    "    }\n",
    "}\n",
    "\n",
    "meeting_name = (question.get(\"data\") or {}).get(\"meeting_name\")\n",
    "print(meeting_name)\n",
    "\n"
   ]
  },
  {
   "cell_type": "markdown",
   "metadata": {},
   "source": [
    "For question's key/value pairs, get the answer\n",
    "\n",
    "1. Read a file and load it in-memory as a list of lines\n",
    "2. then search based on required criteria"
   ]
  },
  {
   "cell_type": "code",
   "execution_count": null,
   "metadata": {},
   "outputs": [],
   "source": [
    "question = {\n",
    "    \"description\": \"What is the duration of {meeting_name} Meeting per date, date filter between {start_date} and {end_date}\",\n",
    "    \"data\": {\n",
    "        \"meeting_name\": \"General\",\n",
    "        \"start_date\": \"9/10/2022\",\n",
    "        \"end_date\": \"9/16/2022\"\n",
    "    }\n",
    "}\n",
    "\n",
    "type(question)"
   ]
  },
  {
   "cell_type": "markdown",
   "metadata": {},
   "source": [
    "**Read / write files**\n",
    "\n",
    "1. Open file -> get the OS handle\n",
    "2. Read the file content (with large file size keep in mind Memory footprint of file content in memory)\n",
    "3. Close file"
   ]
  },
  {
   "cell_type": "code",
   "execution_count": null,
   "metadata": {},
   "outputs": [],
   "source": [
    "# Open file\n",
    "path_to_the_file = \"\"\n",
    "file = open(path_to_the_file, 'r')\n",
    "\n",
    "# TODO: do your logic with the file\n",
    "\n",
    "## read full file\n",
    "## read line by line\n",
    "\n",
    "\n",
    "# Close file\n",
    "file.close()\n"
   ]
  },
  {
   "cell_type": "code",
   "execution_count": null,
   "metadata": {},
   "outputs": [],
   "source": [
    "# Minimize FileNotFoundError if you are reading the File\n",
    "\n",
    "## 1.- verify if path_to_the_file\n",
    "## 2. if exists then ...Open file, do something with data, close\n",
    "## else log or inform we cannot open file"
   ]
  },
  {
   "cell_type": "code",
   "execution_count": null,
   "metadata": {},
   "outputs": [],
   "source": [
    "# Minimize FileNotFoundError if you are reading the File\n",
    "\n",
    "## try/except\n",
    "\n",
    "# try\n",
    "## Open file\n",
    "## do something with data, close\n",
    "# except --> it runs if Error happens\n",
    "####  log error\n",
    "####  Maybe exit program informing we cannot proceed\n",
    "####  OR implement Retry logic (x numbers of times) until file is available"
   ]
  },
  {
   "cell_type": "code",
   "execution_count": null,
   "metadata": {},
   "outputs": [],
   "source": [
    "PATH_TO_THE_FILE = \"/Users/mariamarquina/Desktop/notebooks/trainer.1000/test.csv\"\n",
    "def read_attendance_report_file():\n",
    "    # path_to_the_file = \"/Users/mariamarquina/Desktop/notebooks/trainer.1000/notebooks/data/09092022/meetingAttendanceReport(Python training) (1).csv\"\n",
    "    file = open(PATH_TO_THE_FILE, 'r') # there can be 1....n haaving access to this file -> error?\n",
    "    data = file.read() # how big is the file in-memory (Large file content generates OOM)\n",
    "    file.close() # other process / human can close this handle before -> Error?\n",
    "    return data\n"
   ]
  },
  {
   "cell_type": "code",
   "execution_count": null,
   "metadata": {},
   "outputs": [],
   "source": [
    "data = read_attendance_report_file()\n",
    "print(data)"
   ]
  },
  {
   "cell_type": "code",
   "execution_count": null,
   "metadata": {},
   "outputs": [],
   "source": [
    "PATH_TO_THE_FILE = \"/Users/mariamarquina/Desktop/notebooks/trainer.1000/test.csv\"\n",
    "def read_attendance_report_file():\n",
    "    file = open(PATH_TO_THE_FILE, 'r', encoding='UTF-8') # there can be 1....n haaving access to this file -> error?\n",
    "    # data = []\n",
    "    # for line in file.readlines(): # List of string in-memory --> OOM\n",
    "    #     data.append(line.strip('\\n'))\n",
    "    # return data\n",
    "    \n",
    "    return file.readlines()"
   ]
  },
  {
   "cell_type": "code",
   "execution_count": null,
   "metadata": {},
   "outputs": [],
   "source": [
    "data = read_attendance_report_file()\n",
    "print(data)"
   ]
  },
  {
   "cell_type": "code",
   "execution_count": null,
   "metadata": {},
   "outputs": [],
   "source": [
    "PATH_TO_THE_FILE = \"/Users/mariamarquina/Desktop/notebooks/trainer.1000/test.csv\"\n",
    "def read_attendance_report_file():\n",
    "    file = open(PATH_TO_THE_FILE, 'r', encoding='UTF-8') # there can be 1....n haaving access to this file -> error?\n",
    "\n",
    "    line = file.readline()\n",
    "    print(line)\n",
    "    # while file.:\n",
    "    #     line = file.readline()\n",
    "    #     print(line)\n",
    "\n",
    "    file.close()\n",
    "    # return ..."
   ]
  },
  {
   "cell_type": "code",
   "execution_count": null,
   "metadata": {},
   "outputs": [],
   "source": [
    "read_attendance_report_file()"
   ]
  },
  {
   "cell_type": "code",
   "execution_count": null,
   "metadata": {},
   "outputs": [],
   "source": [
    "PATH_TO_THE_FILE = \"/Users/mariamarquina/Desktop/notebooks/trainer.1000/test.csv\"\n",
    "def read_attendance_report_file():\n",
    "    try:\n",
    "        file = open(PATH_TO_THE_FILE, 'r')\n",
    "        data = file.readlines()\n",
    "        # file.close()\n",
    "    except Exception as exception:\n",
    "        print(f'Error while reading file {PATH_TO_THE_FILE}: {exception}')\n",
    "    finally:  # runs whether or not error occurs\n",
    "        print('running finally block')\n",
    "        if not file.closed:\n",
    "            print('closing file...')\n",
    "            file.close()"
   ]
  },
  {
   "cell_type": "code",
   "execution_count": 75,
   "metadata": {},
   "outputs": [],
   "source": [
    "## with block\n",
    "\n",
    "PATH_TO_THE_FILE = \"/Users/mariamarquina/Desktop/notebooks/trainer.1000/test.csv\"\n",
    "def read_attendance_report_file():\n",
    "    ## it defines a block of code where file is valid\n",
    "    file = None\n",
    "    try:\n",
    "        with open(PATH_TO_THE_FILE, 'r') as file:\n",
    "            data = file.readlines()\n",
    "        # todo \n",
    "        return data\n",
    "        ## in the happy path escenario outside of with block file is \"closed\" already; with block guarantees that\n",
    "    except Exception as exception:\n",
    "        print(f'Error while reading file {PATH_TO_THE_FILE}: {exception}')\n",
    "        return \n",
    "\n",
    "    # finally:  # runs whether or not error occurs\n",
    "    #     print('running finally block')\n",
    "    #     if file is not None and not file.closed:\n",
    "    #         print('closing file...')\n",
    "    #         file.close()"
   ]
  },
  {
   "cell_type": "code",
   "execution_count": 76,
   "metadata": {},
   "outputs": [
    {
     "name": "stdout",
     "output_type": "stream",
     "text": [
      "Error while reading file /Users/mariamarquina/Desktop/notebooks/trainer.1000/test.csv: division by zero\n",
      "None <class 'NoneType'>\n"
     ]
    }
   ],
   "source": [
    "data = read_attendance_report_file()\n",
    "print(data, type(data))\n",
    "\n",
    "if data is None:\n",
    "    print('error while getting data')"
   ]
  },
  {
   "cell_type": "code",
   "execution_count": null,
   "metadata": {},
   "outputs": [],
   "source": [
    "# List all \"files\" with csv extension inside data OR attendance_report directory\n",
    "dir_path =  '/Users/mariamarquina/Desktop/notebooks/trainer.1000/notebooks/data'\n",
    "files = get_files_in_path(dir_path, 'csv')\n"
   ]
  }
 ],
 "metadata": {
  "kernelspec": {
   "display_name": "Python 3.9.14 64-bit",
   "language": "python",
   "name": "python3"
  },
  "language_info": {
   "codemirror_mode": {
    "name": "ipython",
    "version": 3
   },
   "file_extension": ".py",
   "mimetype": "text/x-python",
   "name": "python",
   "nbconvert_exporter": "python",
   "pygments_lexer": "ipython3",
   "version": "3.9.14"
  },
  "orig_nbformat": 4,
  "vscode": {
   "interpreter": {
    "hash": "397704579725e15f5c7cb49fe5f0341eb7531c82d19f2c29d197e8b64ab5776b"
   }
  }
 },
 "nbformat": 4,
 "nbformat_minor": 2
}
